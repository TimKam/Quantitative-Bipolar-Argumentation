{
 "cells": [
  {
   "cell_type": "markdown",
   "id": "junior-thesaurus",
   "metadata": {},
   "source": [
    "# QBAF-Py: Examples"
   ]
  },
  {
   "cell_type": "markdown",
   "id": "considerable-surgeon",
   "metadata": {},
   "source": [
    "This noteboook provides some examples for how to use QBAF-Py."
   ]
  },
  {
   "cell_type": "markdown",
   "id": "logical-bulgarian",
   "metadata": {},
   "source": [
    "## Instantiating QBAFs"
   ]
  },
  {
   "cell_type": "markdown",
   "id": "spiritual-reserve",
   "metadata": {},
   "source": [
    "Let us first instantiate a QBAF."
   ]
  },
  {
   "cell_type": "code",
   "execution_count": 1,
   "id": "english-sending",
   "metadata": {},
   "outputs": [],
   "source": [
    "from qbaf import QBAFramework, QBAFARelations\n",
    "\n",
    "args = ['a', 'b', 'c', 'd', 'e', 'f']\n",
    "initial_strengths = [0.5, 0.2, 0.85, 0.65, 0.4, 1]\n",
    "atts = [('c', 'a'), ('e', 'b'), ('f', 'c')]\n",
    "supps = [('b', 'a'), ('d', 'a'), ('e', 'c')]\n",
    "qbaf_0 = QBAFramework(args, initial_strengths, atts, supps, semantics=\"QuadraticEnergy_model\")\n"
   ]
  },
  {
   "cell_type": "markdown",
   "id": "applicable-mustang",
   "metadata": {},
   "source": [
    "The semantics that will later be applied is tied to the QBAF instantiation.\n",
    "Here, we specify the quadratic energy semantics.\n",
    "Note that QBAF-Py is for argumentation-based reasoning and not for visualization, so we have to take care of the visualization ourself; in the function that we implement below, we also take care of the visualization of explanations."
   ]
  },
  {
   "cell_type": "code",
   "execution_count": 2,
   "id": "modern-crown",
   "metadata": {},
   "outputs": [],
   "source": [
    "%%capture\n",
    "# To visualize the QBAFs, the networkx and pygraphviz libraries are required.\n",
    "# We install them below, but depending on your setup, you may need to install them differently\n",
    "!pip install networkx\n",
    "!pip install pygraphviz"
   ]
  },
  {
   "cell_type": "code",
   "execution_count": 3,
   "id": "trained-association",
   "metadata": {
    "scrolled": true
   },
   "outputs": [
    {
     "data": {
      "image/png": "[encoded data removed]",
      "text/plain": [
       "<Figure size 432x288 with 1 Axes>"
      ]
     },
     "metadata": {},
     "output_type": "display_data"
    }
   ],
   "source": [
    "import networkx as nx\n",
    "from networkx.drawing.nx_agraph import graphviz_layout\n",
    "\n",
    "\n",
    "def visualize(qbaf: QBAFramework, explanations=[], with_fs=False, round_to=2):\n",
    "    \"\"\"\n",
    "    Takes a QBAF and renders it as a graph\n",
    "    \n",
    "    Args:\n",
    "            qbaf (QBAFramework): The QBAF that is supposed to be rendered\n",
    "            explanations (List): List of sets of explanation arguments that are supposed to be highlighted\n",
    "            with_fs (Bool): Set to `True` if final strenghts should be rendered as well.\n",
    "                            Defaults to `False`.\n",
    "            round_to (int): Number of decimals the strengths should be rounded to before rendering.\n",
    "                            Defaults to `2`.\n",
    "            \n",
    "    \"\"\"\n",
    "    args = qbaf.arguments\n",
    "    initial_strengths = qbaf.initial_strengths\n",
    "    for key, value in initial_strengths.items():\n",
    "        initial_strengths[key] = round(value, round_to)\n",
    "    if with_fs:\n",
    "        final_strengths = qbaf.final_strengths\n",
    "        for key, value in final_strengths.items():\n",
    "            final_strengths[key] = round(value, round_to)\n",
    "    graph = nx.DiGraph()\n",
    "    nodes = {}\n",
    "    edge_colors = []\n",
    "    node_sizes = []\n",
    "    for arg in args:\n",
    "        if with_fs:\n",
    "            label = f'{arg} ({initial_strengths[arg]}): {final_strengths[arg]}'\n",
    "        else:\n",
    "            label = f'{arg} ({initial_strengths[arg]})'\n",
    "        graph.add_node(label)\n",
    "        nodes[arg] = label\n",
    "        edge_color = '#fff'\n",
    "        node_size = 2000\n",
    "        for explanation in explanations:\n",
    "            if arg in explanation:\n",
    "                edge_color = '#af4154'\n",
    "                node_size = 3000\n",
    "        node_sizes.append(node_size)\n",
    "        edge_colors.append(edge_color)\n",
    "    labels = {}\n",
    "    for att in qbaf.attack_relations.relations:\n",
    "        labels[(nodes[att[0]], nodes[att[1]])] = '-'\n",
    "        graph.add_edge(nodes[att[0]], nodes[att[1]])\n",
    "    for supp in qbaf.support_relations.relations:\n",
    "        labels[(nodes[supp[0]], nodes[supp[1]])] = '+'\n",
    "        graph.add_edge(nodes[supp[0]], nodes[supp[1]])\n",
    "    pos = graphviz_layout(graph, prog='dot')\n",
    "    nx.draw(graph, pos, with_labels=True, node_shape='8', node_size=node_sizes, font_size=8, node_color='#fff', edgecolors=edge_colors,bbox=dict(facecolor='black', alpha=0.1))\n",
    "    nx.draw_networkx_edge_labels(\n",
    "    graph, pos,\n",
    "    edge_labels=labels,\n",
    "    font_size=25,\n",
    "    rotate=False)\n",
    "\n",
    "visualize(qbaf_0)\n"
   ]
  },
  {
   "cell_type": "markdown",
   "id": "peripheral-honey",
   "metadata": {},
   "source": [
    "## Drawing Inferences"
   ]
  },
  {
   "cell_type": "markdown",
   "id": "adverse-fifteen",
   "metadata": {},
   "source": [
    "As we have instantiated our QBAF with a specific semantics, the inferences (final strengths) are readily available:"
   ]
  },
  {
   "cell_type": "code",
   "execution_count": 4,
   "id": "enabling-triumph",
   "metadata": {},
   "outputs": [
    {
     "name": "stdout",
     "output_type": "stream",
     "text": [
      "{'f': 1.0, 'e': 0.4, 'c': 0.625, 'b': 0.1724137931034483, 'd': 0.65, 'a': 0.5187551724162596}\n"
     ]
    }
   ],
   "source": [
    "final_strengths = qbaf_0.final_strengths\n",
    "print(final_strengths)"
   ]
  },
  {
   "cell_type": "markdown",
   "id": "emerging-consensus",
   "metadata": {},
   "source": [
    "We update the visualizations to also show the final strengths of the arguments.\n",
    "For this, we call our visualization function, with the parameter `with_fs` set to `True`."
   ]
  },
  {
   "cell_type": "code",
   "execution_count": 5,
   "id": "corrected-scratch",
   "metadata": {},
   "outputs": [
    {
     "data": {
      "image/png": "[encoded data removed]",
      "text/plain": [
       "<Figure size 432x288 with 1 Axes>"
      ]
     },
     "metadata": {},
     "output_type": "display_data"
    }
   ],
   "source": [
    "visualize(qbaf_0, with_fs=True, round_to=3)"
   ]
  },
  {
   "cell_type": "markdown",
   "id": "southwest-fitting",
   "metadata": {},
   "source": [
    "## Generating Explanations"
   ]
  },
  {
   "cell_type": "markdown",
   "id": "heated-allocation",
   "metadata": {},
   "source": [
    "Given two argumentation frameworks and two arguments therein (so-called *topic arguments*), we can explain changes in the relative strength of these arguments (see: Kampik and Čyras. [Explaining Change in Quantitative Bipolar Argumentation](https://www.diva-portal.org/smash/get/diva2:1690830/FULLTEXT02). First, we instantiate two QBAFs and compute their final strengths; note that here, we use a naive semantics (`basic_model`), which simply subtracts the final strengths of attackers and adds the final strength of supporters."
   ]
  },
  {
   "cell_type": "code",
   "execution_count": 6,
   "id": "statistical-harris",
   "metadata": {},
   "outputs": [
    {
     "data": {
      "image/png": "[encoded data removed]",
      "text/plain": [
       "<Figure size 432x288 with 1 Axes>"
      ]
     },
     "metadata": {},
     "output_type": "display_data"
    }
   ],
   "source": [
    "args_1 = ['a', 'b', 'c']\n",
    "initial_strengths_1 = [1, 1, 5]\n",
    "atts_1 = [('a', 'c')]\n",
    "supps_1 = [('a', 'b')]\n",
    "qbaf_1 = QBAFramework(args_1, initial_strengths_1, atts_1, supps_1, semantics=\"basic_model\")\n",
    "\n",
    "args_2 = ['a', 'b', 'c', 'd', 'e']\n",
    "initial_strengths_2 = [2, 1, 5, 1, 3]\n",
    "atts_2 = [('a', 'c'), ('d', 'a'), ('e', 'c')]\n",
    "supps_2 = [('a', 'b'), ('d', 'e')]\n",
    "qbaf_2 = QBAFramework(args_2, initial_strengths_2, atts_2, supps_2, semantics=\"basic_model\")\n",
    "\n",
    "visualize(qbaf_1, with_fs=True)"
   ]
  },
  {
   "cell_type": "code",
   "execution_count": 7,
   "id": "limited-attention",
   "metadata": {},
   "outputs": [
    {
     "data": {
      "image/png": "[encoded data removed]",
      "text/plain": [
       "<Figure size 432x288 with 1 Axes>"
      ]
     },
     "metadata": {},
     "output_type": "display_data"
    }
   ],
   "source": [
    "visualize(qbaf_2, with_fs=True)"
   ]
  },
  {
   "cell_type": "markdown",
   "id": "circular-giving",
   "metadata": {},
   "source": [
    "As we can see, `b` is strength-inconsistent w.r.t. `c` (and `qbaf_1`, `qbaf_2`):"
   ]
  },
  {
   "cell_type": "code",
   "execution_count": 8,
   "id": "biblical-belief",
   "metadata": {},
   "outputs": [
    {
     "name": "stdout",
     "output_type": "stream",
     "text": [
      "Are a and b strenght-consistent? False\n"
     ]
    }
   ],
   "source": [
    "print(f'Are a and b strenght-consistent? {qbaf_1.are_strength_consistent(qbaf_2, \"b\", \"c\")}')"
   ]
  },
  {
   "cell_type": "markdown",
   "id": "documentary-governor",
   "metadata": {},
   "source": [
    "Now, we can determine and visualize strength inconsistency explanations."
   ]
  },
  {
   "cell_type": "code",
   "execution_count": 9,
   "id": "directed-library",
   "metadata": {},
   "outputs": [
    {
     "name": "stdout",
     "output_type": "stream",
     "text": [
      "Minimal sufficient explanations: [{'a'}, {'e'}]\n"
     ]
    },
    {
     "data": {
      "image/png": "[encoded data removed]",
      "text/plain": [
       "<Figure size 432x288 with 1 Axes>"
      ]
     },
     "metadata": {},
     "output_type": "display_data"
    }
   ],
   "source": [
    "min_sufficient_explanations = qbaf_1.minimalSSIExplanations(qbaf_2, 'b', 'c')\n",
    "print(f'Minimal sufficient explanations: {min_sufficient_explanations}')\n",
    "visualize(qbaf_2, explanations=min_sufficient_explanations, with_fs=True)"
   ]
  },
  {
   "cell_type": "code",
   "execution_count": 10,
   "id": "periodic-temperature",
   "metadata": {},
   "outputs": [
    {
     "name": "stdout",
     "output_type": "stream",
     "text": [
      "Minimal counterfactual explanations: [{'e'}]\n"
     ]
    },
    {
     "data": {
      "image/png": "[encoded data removed]",
      "text/plain": [
       "<Figure size 432x288 with 1 Axes>"
      ]
     },
     "metadata": {},
     "output_type": "display_data"
    }
   ],
   "source": [
    "min_counterfactual_explanations = qbaf_1.minimalCSIExplanations(qbaf_2, 'b', 'c')\n",
    "print(f'Minimal counterfactual explanations: {min_counterfactual_explanations}')\n",
    "visualize(qbaf_2, explanations=min_counterfactual_explanations, with_fs=True)"
   ]
  },
  {
   "cell_type": "markdown",
   "id": "a71169e8",
   "metadata": {},
   "source": [
    "## QBAF Arguments"
   ]
  },
  {
   "cell_type": "markdown",
   "id": "knowing-bulletin",
   "metadata": {},
   "source": [
    "Let us introduce the class QBAFArgument.\n",
    "\n",
    "Note: Any object that is hashable can be used as argument (string, int, ...)."
   ]
  },
  {
   "cell_type": "code",
   "execution_count": 11,
   "id": "05ff4fde",
   "metadata": {},
   "outputs": [
    {
     "name": "stdout",
     "output_type": "stream",
     "text": [
      "Arg('a')\n",
      "a = 'a'\n",
      "a.name = 'a'\n",
      "a.description = 'Shares from company X should be bought'\n"
     ]
    }
   ],
   "source": [
    "from qbaf import QBAFArgument\n",
    "\n",
    "a = QBAFArgument(name='a', description='Shares from company X should be bought')\n",
    "print(f\"{a}\")\n",
    "print(f\"{a = }\")\n",
    "print(f'{a.name = }')\n",
    "print(f'{a.description = }')"
   ]
  },
  {
   "cell_type": "markdown",
   "id": "414bf00b",
   "metadata": {},
   "source": [
    "The attribute name is unmodifiable, whereas the attribute description is optional and modifiable."
   ]
  },
  {
   "cell_type": "code",
   "execution_count": 12,
   "id": "19f1fdae",
   "metadata": {},
   "outputs": [
    {
     "name": "stdout",
     "output_type": "stream",
     "text": [
      "b.name = 'b'\n",
      "b.description = 'Shares from company X should be sold'\n"
     ]
    }
   ],
   "source": [
    "b = QBAFArgument('b')\n",
    "print(f'{b.name = }')\n",
    "\n",
    "b.description = 'Shares from company X should be sold'\n",
    "print(f'{b.description = }')"
   ]
  },
  {
   "cell_type": "markdown",
   "id": "4a894460",
   "metadata": {},
   "source": [
    "Two arguments are equal iff their names are equal."
   ]
  },
  {
   "cell_type": "code",
   "execution_count": 13,
   "id": "4f5689f6",
   "metadata": {},
   "outputs": [
    {
     "name": "stdout",
     "output_type": "stream",
     "text": [
      "a == b = False\n",
      "a == QBAFArgument('a', 'Different description') = True\n"
     ]
    }
   ],
   "source": [
    "print(f'{a == b = }')\n",
    "\n",
    "print(f\"{a == QBAFArgument('a', 'Different description') = }\")"
   ]
  },
  {
   "cell_type": "markdown",
   "id": "602a3904",
   "metadata": {},
   "source": [
    "## QBAF semantics"
   ]
  },
  {
   "cell_type": "markdown",
   "id": "endangered-finder",
   "metadata": {},
   "source": [
    "The semantics can be selected only in the initialization of a QBAF.\n",
    "\n",
    "The semantics is an optional argument that can be consulted with default value 'basic_model'."
   ]
  },
  {
   "cell_type": "code",
   "execution_count": 14,
   "id": "e35056ae",
   "metadata": {},
   "outputs": [
    {
     "name": "stdout",
     "output_type": "stream",
     "text": [
      "qbf.semantics = 'basic_model'\n"
     ]
    }
   ],
   "source": [
    "args = ['a', 'b', 'c']\n",
    "istrengths = [1, 1, 5]\n",
    "att = [('a', 'c')]\n",
    "supp = [('a', 'b')]\n",
    "qbf = QBAFramework(args, istrengths, att, supp)\n",
    "\n",
    "print(f'{qbf.semantics = }')"
   ]
  },
  {
   "cell_type": "markdown",
   "id": "9ac14a60",
   "metadata": {},
   "source": [
    "There are several semantics to choose from.\n",
    "Each one with its one implementation of aggregation and influence functions."
   ]
  },
  {
   "cell_type": "code",
   "execution_count": 15,
   "id": "56f9992e",
   "metadata": {},
   "outputs": [
    {
     "name": "stdout",
     "output_type": "stream",
     "text": [
      "basic_model's final strengths: {'f': 1.0, 'e': 0.4, 'c': 0.25, 'b': -0.2, 'd': 0.65, 'a': 0.7}\n",
      "QuadraticEnergy_model's final strengths: {'f': 1.0, 'e': 0.4, 'c': 0.62, 'b': 0.17, 'd': 0.65, 'a': 0.52}\n",
      "SquaredDFQuAD_model's final strengths: {'f': 1.0, 'e': 0.4, 'c': 0.53, 'b': 0.14, 'd': 0.65, 'a': 0.35}\n",
      "EulerBasedTop_model's final strengths: {'f': 1.0, 'e': 0.4, 'c': 0.81, 'b': 0.15, 'd': 0.65, 'a': 0.47}\n",
      "EulerBased_model's final strengths: {'f': 1.0, 'e': 0.4, 'c': 0.81, 'b': 0.15, 'd': 0.65, 'a': 0.5}\n",
      "DFQuAD_model's final strengths: {'f': 1.0, 'e': 0.4, 'c': 0.34, 'b': 0.12, 'd': 0.65, 'a': 0.37}\n"
     ]
    }
   ],
   "source": [
    "for semantics in [\"basic_model\", \"QuadraticEnergy_model\", \"SquaredDFQuAD_model\",\n",
    "                  \"EulerBasedTop_model\", \"EulerBased_model\", \"DFQuAD_model\"]:\n",
    "    qbf_0 = QBAFramework(arguments=['a', 'b', 'c', 'd', 'e', 'f'],\n",
    "                         initial_strengths=[0.5, 0.2, 0.85, 0.65, 0.4, 1],\n",
    "                         attack_relations=[('c', 'a'), ('e', 'b'), ('f', 'c')],\n",
    "                         support_relations=[('b', 'a'), ('d', 'a'), ('e', 'c')],\n",
    "                         semantics=semantics)\n",
    "    final_strengths = {arg: round(fs, 2) for arg, fs in qbf_0.final_strengths.items()}\n",
    "    print(f\"{semantics}'s final strengths: {final_strengths}\")"
   ]
  },
  {
   "cell_type": "markdown",
   "id": "c23dfbf0",
   "metadata": {},
   "source": [
    "## QBAF custom semantics"
   ]
  },
  {
   "cell_type": "markdown",
   "id": "complete-nudist",
   "metadata": {},
   "source": [
    "Your own semantics can be used by implementing your own aggregation and influence functions.\n",
    "\n",
    "Optionally, you can set a max and min value for the initial strengths of your semantics."
   ]
  },
  {
   "cell_type": "code",
   "execution_count": 16,
   "id": "995f7822",
   "metadata": {},
   "outputs": [
    {
     "name": "stdout",
     "output_type": "stream",
     "text": [
      "Custom implementation of basic_model\n",
      "qbf_0.semantics = None\n",
      "qbf_0.min_strength = -1.7976931348623157e+308\n",
      "qbf_0.max_strength = 1.7976931348623157e+308\n",
      "qbf_0.final_strengths = {'f': 1.0, 'e': 0.4, 'c': 0.25, 'b': -0.2, 'd': 0.65, 'a': 0.7}\n"
     ]
    }
   ],
   "source": [
    "qbf_0 = QBAFramework(arguments=['a', 'b', 'c', 'd', 'e', 'f'],\n",
    "                      initial_strengths=[0.5, 0.2, 0.85, 0.65, 0.4, 1],\n",
    "                      attack_relations=[('c', 'a'), ('e', 'b'), ('f', 'c')],\n",
    "                      support_relations=[('b', 'a'), ('d', 'a'), ('e', 'c')],\n",
    "                      aggregation_function=lambda w1, w2 : w1 + w2,\n",
    "                      influence_function=lambda w, s : w + s,\n",
    "                      min_strength=-1.7976931348623157e+308,\n",
    "                      max_strength=1.7976931348623157e+308)\n",
    "print(\"Custom implementation of basic_model\")\n",
    "print(f'{qbf_0.semantics = }')\n",
    "print(f'{qbf_0.min_strength = }')\n",
    "print(f'{qbf_0.max_strength = }')\n",
    "print(f'{qbf_0.final_strengths = }')"
   ]
  },
  {
   "cell_type": "markdown",
   "id": "0bd52491",
   "metadata": {},
   "source": [
    "## QBAF disjoint relations"
   ]
  },
  {
   "cell_type": "markdown",
   "id": "knowing-worship",
   "metadata": {},
   "source": [
    "Since it does not make much sense to have one argument attacking and supporting at the same time another argument, the property disjoint_relations has been added that is activated when its value is True (default).\n",
    "If it is activated, it checks that the attack and support relations are disjoint."
   ]
  },
  {
   "cell_type": "code",
   "execution_count": 17,
   "id": "52d16c18",
   "metadata": {},
   "outputs": [
    {
     "name": "stdout",
     "output_type": "stream",
     "text": [
      "qbf.disjoint_relations = False\n",
      "qbf.attack_relations.isdisjoint(qbf.support_relations) = False\n"
     ]
    }
   ],
   "source": [
    "args,initial_strengths,att,supp = ['a', 'b', 'c'], [1, 1, 5], [('a', 'c')], [('a', 'b')]\n",
    "qbf = QBAFramework(args,initial_strengths, att, att + supp,\n",
    "                   semantics=\"basic_model\",\n",
    "                   disjoint_relations=False)\n",
    "print(f'{qbf.disjoint_relations = }')\n",
    "print(f'{qbf.attack_relations.isdisjoint(qbf.support_relations) = }')"
   ]
  },
  {
   "cell_type": "code",
   "execution_count": 18,
   "id": "8342ffc7",
   "metadata": {},
   "outputs": [
    {
     "name": "stdout",
     "output_type": "stream",
     "text": [
      "Value error: attack_relations and support_relations are not disjoint\n"
     ]
    }
   ],
   "source": [
    "# Now if we set the qbf to check if they are disjoint it will throw an Exception if they are not\n",
    "try:\n",
    "    qbf.disjoint_relations = True\n",
    "except ValueError:\n",
    "      print(\"Value error: attack_relations and support_relations are not disjoint\")"
   ]
  },
  {
   "cell_type": "markdown",
   "id": "4ad09a1e",
   "metadata": {},
   "source": [
    "## QBAF Attributes"
   ]
  },
  {
   "cell_type": "markdown",
   "id": "criminal-jacob",
   "metadata": {},
   "source": [
    "The QBAF contains arguments, attack relations, support relations and initial strengths."
   ]
  },
  {
   "cell_type": "markdown",
   "id": "e049099b",
   "metadata": {},
   "source": [
    "### Arguments"
   ]
  },
  {
   "cell_type": "markdown",
   "id": "designed-guinea",
   "metadata": {},
   "source": [
    "Arguments can be consulted, added and removed.\n",
    "\n",
    "Note that arguments that are contained in any attack/relation cannot be removed.\n",
    "Also, adding arguments that already exist does nothing (it does not modify its initial strength)."
   ]
  },
  {
   "cell_type": "code",
   "execution_count": 19,
   "id": "38b082a3",
   "metadata": {},
   "outputs": [
    {
     "name": "stdout",
     "output_type": "stream",
     "text": [
      "qbf.arguments = {'b', 'd', 'a', 'c'}\n",
      "'a' in qbf.arguments = True\n",
      "qbf.contains_argument('a') = True\n"
     ]
    }
   ],
   "source": [
    "args,initial_strengths,att,supp = ['a', 'b', 'c', 'd'], [1, 1, 5, 0], [('a', 'c')], [('a', 'b')]\n",
    "qbf = QBAFramework(args,initial_strengths, att, supp)\n",
    "\n",
    "print(f'{qbf.arguments = }')\n",
    "print(f\"{'a' in qbf.arguments = }\")\n",
    "print(f\"{qbf.contains_argument('a') = }\")"
   ]
  },
  {
   "cell_type": "code",
   "execution_count": 20,
   "id": "99913dcf",
   "metadata": {},
   "outputs": [
    {
     "name": "stdout",
     "output_type": "stream",
     "text": [
      "Remove argument 'd'\n",
      "qbf.arguments = {'a', 'b', 'c'}\n",
      "Add argument 'e'\n",
      "qbf.arguments = {'a', 'b', 'c', 'e'}\n"
     ]
    }
   ],
   "source": [
    "qbf.remove_argument('d')\n",
    "print(\"Remove argument 'd'\")\n",
    "print(f'{qbf.arguments = }')\n",
    "\n",
    "qbf.add_argument('e', initial_strength=0) # initial_strength is optional. Defaults to 0.0\n",
    "print(\"Add argument 'e'\")\n",
    "print(f'{qbf.arguments = }')"
   ]
  },
  {
   "cell_type": "markdown",
   "id": "a2ca381a",
   "metadata": {},
   "source": [
    "### Attack/Support relations"
   ]
  },
  {
   "cell_type": "markdown",
   "id": "comparable-teens",
   "metadata": {},
   "source": [
    "Attack/Support relations can be consulted, added and removed.\n",
    "\n",
    "They are instances of the class QBAFARelations, which represents a set of tuples of size 2."
   ]
  },
  {
   "cell_type": "code",
   "execution_count": 21,
   "id": "285082c3",
   "metadata": {},
   "outputs": [
    {
     "name": "stdout",
     "output_type": "stream",
     "text": [
      "qbf.attack_relations = QBAFARelations{('a', 'c')}\n",
      "qbf.support_relations = QBAFARelations{('a', 'b')}\n",
      "('a', 'c') in qbf.attack_relations = True\n",
      "qbf.contains_attack_relation('a', 'c') = True\n",
      "('b', 'a') in qbf.support_relations = False\n",
      "qbf.contains_support_relation('b', 'a') = False\n"
     ]
    }
   ],
   "source": [
    "args,initial_strengths,att,supp = ['a', 'b', 'c'], [1, 1, 5], [('a', 'c')], [('a', 'b')]\n",
    "qbf = QBAFramework(args,initial_strengths, att, supp)\n",
    "\n",
    "print(f'{qbf.attack_relations = }')\n",
    "print(f'{qbf.support_relations = }')\n",
    "\n",
    "print(f\"{('a', 'c') in qbf.attack_relations = }\")\n",
    "print(f\"{qbf.contains_attack_relation('a', 'c') = }\")\n",
    "\n",
    "print(f\"{('b', 'a') in qbf.support_relations = }\")\n",
    "print(f\"{qbf.contains_support_relation('b', 'a') = }\")"
   ]
  },
  {
   "cell_type": "code",
   "execution_count": 22,
   "id": "85a95415",
   "metadata": {},
   "outputs": [
    {
     "name": "stdout",
     "output_type": "stream",
     "text": [
      "Removing existing attack and support relations\n",
      "Adding new attack and support relations\n",
      "qbf.attack_relations = QBAFARelations{('c', 'a')}\n",
      "qbf.support_relations = QBAFARelations{('b', 'a')}\n"
     ]
    }
   ],
   "source": [
    "qbf.remove_attack_relation('a', 'c')\n",
    "qbf.remove_support_relation('a', 'b')\n",
    "print(\"Removing existing attack and support relations\")\n",
    "\n",
    "qbf.add_attack_relation('c', 'a')\n",
    "qbf.add_support_relation('b', 'a')\n",
    "print(\"Adding new attack and support relations\")\n",
    "\n",
    "print(f'{qbf.attack_relations = }')\n",
    "print(f'{qbf.support_relations = }')"
   ]
  },
  {
   "cell_type": "markdown",
   "id": "463ac029",
   "metadata": {},
   "source": [
    "### Initial strengths"
   ]
  },
  {
   "cell_type": "markdown",
   "id": "central-picture",
   "metadata": {},
   "source": [
    "Initial strengths can be consulted and modified."
   ]
  },
  {
   "cell_type": "code",
   "execution_count": 23,
   "id": "f62b2992",
   "metadata": {},
   "outputs": [
    {
     "name": "stdout",
     "output_type": "stream",
     "text": [
      "qbf.initial_strengths = {'a': 1.0, 'b': 1.0, 'c': 5.0}\n",
      "qbf.initial_strength('a') = 1.0\n"
     ]
    }
   ],
   "source": [
    "args,initial_strengths,att,supp = ['a', 'b', 'c'], [1, 1, 5], [('a', 'c')], [('a', 'b')]\n",
    "qbf = QBAFramework(args,initial_strengths, att, supp)\n",
    "\n",
    "print(f'{qbf.initial_strengths = }')\n",
    "print(f\"{qbf.initial_strength('a') = }\")"
   ]
  },
  {
   "cell_type": "code",
   "execution_count": 24,
   "id": "0722ef16",
   "metadata": {},
   "outputs": [
    {
     "name": "stdout",
     "output_type": "stream",
     "text": [
      "Modify initial_strength of 'a'\n",
      "qbf.initial_strengths = {'a': 2.0, 'b': 1.0, 'c': 5.0}\n"
     ]
    }
   ],
   "source": [
    "qbf.modify_initial_strength('a', 2)\n",
    "print(\"Modify initial_strength of 'a'\")\n",
    "\n",
    "print(f'{qbf.initial_strengths = }')"
   ]
  },
  {
   "cell_type": "markdown",
   "id": "8c5b0fae",
   "metadata": {},
   "source": [
    "### Final strengths"
   ]
  },
  {
   "cell_type": "markdown",
   "id": "representative-nicholas",
   "metadata": {},
   "source": [
    "Final strengths can be consulted and they are calculated making use of the aggregation and influence functions.\n",
    "\n",
    "Every time the final strengths are calculated, they are stored so they can be used next time until the QBAF is modified.\n",
    "\n",
    "When the final strengths are calculated, it is checked that the QBAF is acyclic. Otherwise, it throws and Exception."
   ]
  },
  {
   "cell_type": "code",
   "execution_count": 25,
   "id": "4050e7b9",
   "metadata": {},
   "outputs": [
    {
     "name": "stdout",
     "output_type": "stream",
     "text": [
      "qbf.isacyclic() = True\n",
      "qbf.final_strengths = {'a': 1.0, 'b': 2.0, 'c': 4.0}\n",
      "qbf.final_strength('a') = 1.0\n"
     ]
    }
   ],
   "source": [
    "args,initial_strengths,att,supp = ['a', 'b', 'c'], [1, 1, 5], [('a', 'c')], [('a', 'b')]\n",
    "qbf = QBAFramework(args,initial_strengths, att, supp)\n",
    "\n",
    "print(f'{qbf.isacyclic() = }')\n",
    "\n",
    "print(f'{qbf.final_strengths = }')\n",
    "print(f\"{qbf.final_strength('a') = }\")"
   ]
  },
  {
   "cell_type": "markdown",
   "id": "e428e62c",
   "metadata": {},
   "source": [
    "## QBAF Additional functionality"
   ]
  },
  {
   "cell_type": "markdown",
   "id": "intensive-parks",
   "metadata": {},
   "source": [
    "Additional functionality regarding strength consistency, QBAF reversal and strength inconsistency explanations.\n",
    "\n",
    "Note that when working with more than one QBAF, they are assumed to have the same semantics. It is not checked."
   ]
  },
  {
   "cell_type": "code",
   "execution_count": 26,
   "id": "4db24ddc",
   "metadata": {},
   "outputs": [
    {
     "name": "stdout",
     "output_type": "stream",
     "text": [
      "qbfa.final_strengths = {'a': 2.0, 'b': 3.0, 'c': 3.0}\n",
      "qbfe.final_strengths = {'a': 1.0, 'b': 2.0, 'e': 3.0, 'c': 1.0}\n"
     ]
    }
   ],
   "source": [
    "qbfa = QBAFramework(['a', 'b', 'c'], [2, 1, 5], [('a', 'c')], [('a', 'b')],\n",
    "                   semantics=\"basic_model\")\n",
    "\n",
    "#qbfe = QBAFramework(['a', 'b', 'c', 'e'], [1, 1, 5, 3], [('a', 'c'), ('e', 'c')], [('a', 'b')])\n",
    "qbfe = qbfa.copy()\n",
    "qbfe.modify_initial_strength('a', 1)\n",
    "qbfe.add_argument('e', 3)\n",
    "qbfe.add_attack_relation('e', 'c')\n",
    "\n",
    "print(f\"{qbfa.final_strengths = }\")\n",
    "print(f\"{qbfe.final_strengths = }\")"
   ]
  },
  {
   "cell_type": "markdown",
   "id": "89c8669e",
   "metadata": {},
   "source": [
    "### Strength Consistency"
   ]
  },
  {
   "cell_type": "markdown",
   "id": "threaded-appendix",
   "metadata": {},
   "source": [
    "It can be checked if two arguments are strength consistent w.r.t. two QBAFs."
   ]
  },
  {
   "cell_type": "code",
   "execution_count": 27,
   "id": "27f0a574",
   "metadata": {},
   "outputs": [
    {
     "name": "stdout",
     "output_type": "stream",
     "text": [
      "qbfe.are_strength_consistent(qbfa, 'b', 'c') = False\n"
     ]
    }
   ],
   "source": [
    "print(f\"{qbfe.are_strength_consistent(qbfa, 'b', 'c') = }\")"
   ]
  },
  {
   "cell_type": "markdown",
   "id": "c2551a2f",
   "metadata": {},
   "source": [
    "### Reversal"
   ]
  },
  {
   "cell_type": "markdown",
   "id": "physical-dispute",
   "metadata": {},
   "source": [
    "QBAF Reversal of a set of arguments w.r.t. two QBAFs returns a new QBAF."
   ]
  },
  {
   "cell_type": "code",
   "execution_count": 28,
   "id": "c6e63766",
   "metadata": {},
   "outputs": [
    {
     "name": "stdout",
     "output_type": "stream",
     "text": [
      "reversal.final_strengths = {'a': 1.0, 'b': 2.0, 'c': 4.0}\n"
     ]
    }
   ],
   "source": [
    "reversal = qbfe.reversal(qbfa, {'e'})\n",
    "\n",
    "print(f\"{reversal.final_strengths = }\")"
   ]
  },
  {
   "cell_type": "markdown",
   "id": "ad6cfaf9",
   "metadata": {},
   "source": [
    "### Strength Inconsistency Explanation"
   ]
  },
  {
   "cell_type": "markdown",
   "id": "dying-rebound",
   "metadata": {},
   "source": [
    "It can be checked if a set of arguments is a Sufficient, Necessary or Counterfactual Strength Inconsistency Explanation of two arguments w.r.t. two QBAFs."
   ]
  },
  {
   "cell_type": "code",
   "execution_count": 29,
   "id": "0e347c8f",
   "metadata": {},
   "outputs": [
    {
     "name": "stdout",
     "output_type": "stream",
     "text": [
      "{'e'} is a Sufficient SI Explanation of 'a' and 'b' w.r.t. qbfe and qbfa\n",
      "{'e'} is NOT a Necessary SI Explanation of 'a' and 'b' w.r.t. qbfe and qbfa\n",
      "{'e'} is NOT a Counterfactual SI Explanation of 'a' and 'b' w.r.t. qbfe and qbfa\n"
     ]
    }
   ],
   "source": [
    "explanations = {\"Sufficient SI Explanation\": qbfe.isSSIExplanation(qbfa, {'e'}, 'b', 'c'),\n",
    "                \"Necessary SI Explanation\": qbfe.isNSIExplanation(qbfa, {'e'}, 'b', 'c'),\n",
    "                \"Counterfactual SI Explanation\": qbfe.isCSIExplanation(qbfa, {'e'}, 'b', 'c')}\n",
    "for e in explanations:\n",
    "    if explanations[e]:\n",
    "        print(\"{'e'} is a %s of 'a' and 'b' w.r.t. qbfe and qbfa\" % e)\n",
    "    else:\n",
    "        print(\"{'e'} is NOT a %s of 'a' and 'b' w.r.t. qbfe and qbfa\" % e)"
   ]
  },
  {
   "cell_type": "markdown",
   "id": "43394865",
   "metadata": {},
   "source": [
    "### $\\subset$-minimal SI Explanations"
   ]
  },
  {
   "cell_type": "markdown",
   "id": "literary-football",
   "metadata": {},
   "source": [
    "All the $\\subset$-minimal Sufficient, Necessary or Counterfactual Strength Inconsistency Explanation set of arguments can be computed w.r.t. two arguments and two QBAFs."
   ]
  },
  {
   "cell_type": "code",
   "execution_count": 30,
   "id": "06235945",
   "metadata": {},
   "outputs": [
    {
     "name": "stdout",
     "output_type": "stream",
     "text": [
      "Subset-minimal Sufficient SI Explanations of 'a' and 'b' w.r.t. qbfe and qbfa: [{'a'}, {'e'}]\n",
      "Subset-minimal Necessary SI Explanations of 'a' and 'b' w.r.t. qbfe and qbfa: [{'a', 'e'}]\n",
      "Subset-minimal Counterfactual SI Explanations of 'a' and 'b' w.r.t. qbfe and qbfa: [{'a', 'e'}]\n"
     ]
    }
   ],
   "source": [
    "explanations = {\"Sufficient SI Explanations\": qbfe.minimalSSIExplanations(qbfa, 'b', 'c'),\n",
    "                \"Necessary SI Explanations\": qbfe.minimalNSIExplanations(qbfa, 'b', 'c'),\n",
    "                \"Counterfactual SI Explanations\": qbfe.minimalCSIExplanations(qbfa, 'b', 'c')}\n",
    "for e in explanations:\n",
    "    print(\"Subset-minimal %s of 'a' and 'b' w.r.t. qbfe and qbfa: %s\" % (e, str(explanations[e])))"
   ]
  },
  {
   "cell_type": "markdown",
   "id": "curious-cable",
   "metadata": {},
   "source": [
    "## Simple Removal"
   ]
  },
  {
   "cell_type": "code",
   "execution_count": 31,
   "id": "associate-participation",
   "metadata": {},
   "outputs": [
    {
     "data": {
      "image/png": "[encoded data removed]",
      "text/plain": [
       "<Figure size 432x288 with 1 Axes>"
      ]
     },
     "metadata": {},
     "output_type": "display_data"
    }
   ],
   "source": [
    "# QuadraticEnergy violates proximity\n",
    "args = ['a', 'b', 'c']\n",
    "initial_strengths = [1, 0.5, 1]\n",
    "atts = [('b', 'a'), ('c', 'b')]\n",
    "supps = []\n",
    "qbaf_0 = QBAFramework(args, initial_strengths, atts, supps, semantics=\"QuadraticEnergy_model\")\n",
    "visualize(qbaf_0, with_fs=True)"
   ]
  },
  {
   "cell_type": "code",
   "execution_count": 32,
   "id": "consecutive-allergy",
   "metadata": {},
   "outputs": [
    {
     "data": {
      "image/png": "[encoded data removed]",
      "text/plain": [
       "<Figure size 432x288 with 1 Axes>"
      ]
     },
     "metadata": {},
     "output_type": "display_data"
    }
   ],
   "source": [
    "args = ['a', 'b']\n",
    "initial_strengths = [1, 0.5]\n",
    "atts = [('b', 'a')]\n",
    "supps = []\n",
    "qbaf_0 = QBAFramework(args, initial_strengths, atts, supps, semantics=\"QuadraticEnergy_model\")\n",
    "visualize(qbaf_0, with_fs=True)"
   ]
  },
  {
   "cell_type": "code",
   "execution_count": 33,
   "id": "polar-hacker",
   "metadata": {},
   "outputs": [
    {
     "data": {
      "image/png": "[encoded data removed]",
      "text/plain": [
       "<Figure size 432x288 with 1 Axes>"
      ]
     },
     "metadata": {},
     "output_type": "display_data"
    }
   ],
   "source": [
    "args = ['a', 'c']\n",
    "initial_strengths = [1, 1]\n",
    "atts = []\n",
    "supps = []\n",
    "qbaf_0 = QBAFramework(args, initial_strengths, atts, supps, semantics=\"QuadraticEnergy_model\")\n",
    "visualize(qbaf_0, with_fs=True)"
   ]
  },
  {
   "cell_type": "code",
   "execution_count": 34,
   "id": "dramatic-mississippi",
   "metadata": {},
   "outputs": [
    {
     "data": {
      "image/png": "[encoded data removed]",
      "text/plain": [
       "<Figure size 432x288 with 1 Axes>"
      ]
     },
     "metadata": {},
     "output_type": "display_data"
    }
   ],
   "source": [
    "# SquaredDFQuAD violates proximity\n",
    "args = ['a', 'b', 'c']\n",
    "initial_strengths = [1, 0.5, 1]\n",
    "atts = [('b', 'a'), ('c', 'b')]\n",
    "supps = []\n",
    "qbaf_0 = QBAFramework(args, initial_strengths, atts, supps, semantics=\"SquaredDFQuAD_model\")\n",
    "visualize(qbaf_0, with_fs=True)"
   ]
  },
  {
   "cell_type": "code",
   "execution_count": 35,
   "id": "roman-going",
   "metadata": {},
   "outputs": [
    {
     "data": {
      "image/png": "[encoded data removed]",
      "text/plain": [
       "<Figure size 432x288 with 1 Axes>"
      ]
     },
     "metadata": {},
     "output_type": "display_data"
    }
   ],
   "source": [
    "args = ['a', 'b']\n",
    "initial_strengths = [1, 0.5]\n",
    "atts = [('b', 'a')]\n",
    "supps = []\n",
    "qbaf_0 = QBAFramework(args, initial_strengths, atts, supps, semantics=\"SquaredDFQuAD_model\")\n",
    "visualize(qbaf_0, with_fs=True)"
   ]
  },
  {
   "cell_type": "code",
   "execution_count": 36,
   "id": "polish-bonus",
   "metadata": {},
   "outputs": [
    {
     "data": {
      "image/png": "[encoded data removed]",
      "text/plain": [
       "<Figure size 432x288 with 1 Axes>"
      ]
     },
     "metadata": {},
     "output_type": "display_data"
    }
   ],
   "source": [
    "args = ['a', 'c']\n",
    "initial_strengths = [1, 1]\n",
    "atts = []\n",
    "supps = []\n",
    "qbaf_0 = QBAFramework(args, initial_strengths, atts, supps, semantics=\"SquaredDFQuAD_model\")\n",
    "visualize(qbaf_0, with_fs=True)"
   ]
  },
  {
   "cell_type": "code",
   "execution_count": 37,
   "id": "acknowledged-fence",
   "metadata": {},
   "outputs": [
    {
     "data": {
      "image/png": "[encoded data removed]",
      "text/plain": [
       "<Figure size 432x288 with 1 Axes>"
      ]
     },
     "metadata": {},
     "output_type": "display_data"
    }
   ],
   "source": [
    "# DFQuAD violates proximity\n",
    "args = ['a', 'b', 'c']\n",
    "initial_strengths = [1, 0.5, 1]\n",
    "atts = [('b', 'a'), ('c', 'b')]\n",
    "supps = []\n",
    "qbaf_0 = QBAFramework(args, initial_strengths, atts, supps, semantics=\"DFQuAD_model\")\n",
    "visualize(qbaf_0, with_fs=True)"
   ]
  },
  {
   "cell_type": "code",
   "execution_count": 38,
   "id": "intellectual-thanksgiving",
   "metadata": {},
   "outputs": [
    {
     "data": {
      "image/png": "[encoded data removed]",
      "text/plain": [
       "<Figure size 432x288 with 1 Axes>"
      ]
     },
     "metadata": {},
     "output_type": "display_data"
    }
   ],
   "source": [
    "args = ['a', 'b']\n",
    "initial_strengths = [1, 0.5]\n",
    "atts = [('b', 'a')]\n",
    "supps = []\n",
    "qbaf_0 = QBAFramework(args, initial_strengths, atts, supps, semantics=\"DFQuAD_model\")\n",
    "visualize(qbaf_0, with_fs=True)"
   ]
  },
  {
   "cell_type": "code",
   "execution_count": 39,
   "id": "sweet-amplifier",
   "metadata": {},
   "outputs": [
    {
     "data": {
      "image/png": "[encoded data removed]",
      "text/plain": [
       "<Figure size 432x288 with 1 Axes>"
      ]
     },
     "metadata": {},
     "output_type": "display_data"
    }
   ],
   "source": [
    "args = ['a', 'c']\n",
    "initial_strengths = [1, 1]\n",
    "atts = []\n",
    "supps = []\n",
    "qbaf_0 = QBAFramework(args, initial_strengths, atts, supps, semantics=\"DFQuAD_model\")\n",
    "visualize(qbaf_0, with_fs=True)"
   ]
  },
  {
   "cell_type": "code",
   "execution_count": 40,
   "id": "dangerous-valuable",
   "metadata": {},
   "outputs": [
    {
     "data": {
      "image/png": "[encoded data removed]",
      "text/plain": [
       "<Figure size 432x288 with 1 Axes>"
      ]
     },
     "metadata": {},
     "output_type": "display_data"
    }
   ],
   "source": [
    "# EulerBased violates proximity\n",
    "args = ['a', 'b', 'c']\n",
    "initial_strengths = [0.5, 0.1, 1]\n",
    "atts = [('b', 'a')]\n",
    "supps = [('c', 'b')]\n",
    "qbaf_0 = QBAFramework(args, initial_strengths, atts, supps, semantics=\"EulerBased_model\")\n",
    "visualize(qbaf_0, with_fs=True)"
   ]
  },
  {
   "cell_type": "code",
   "execution_count": 41,
   "id": "outdoor-funds",
   "metadata": {},
   "outputs": [
    {
     "data": {
      "image/png": "[encoded data removed]",
      "text/plain": [
       "<Figure size 432x288 with 1 Axes>"
      ]
     },
     "metadata": {},
     "output_type": "display_data"
    }
   ],
   "source": [
    "args = ['a', 'b']\n",
    "initial_strengths = [0.5, 0.1]\n",
    "atts = [('b', 'a')]\n",
    "supps = []\n",
    "qbaf_0 = QBAFramework(args, initial_strengths, atts, supps, semantics=\"EulerBased_model\")\n",
    "visualize(qbaf_0, with_fs=True)"
   ]
  },
  {
   "cell_type": "code",
   "execution_count": 42,
   "id": "monthly-huntington",
   "metadata": {},
   "outputs": [
    {
     "data": {
      "image/png": "[encoded data removed]",
      "text/plain": [
       "<Figure size 432x288 with 1 Axes>"
      ]
     },
     "metadata": {},
     "output_type": "display_data"
    }
   ],
   "source": [
    "args = ['a', 'c']\n",
    "initial_strengths = [0.5, 1]\n",
    "atts = []\n",
    "supps = []\n",
    "qbaf_0 = QBAFramework(args, initial_strengths, atts, supps, semantics=\"EulerBased_model\")\n",
    "visualize(qbaf_0, with_fs=True)"
   ]
  },
  {
   "cell_type": "code",
   "execution_count": 43,
   "id": "grave-refund",
   "metadata": {},
   "outputs": [
    {
     "data": {
      "image/png": "[encoded data removed]",
      "text/plain": [
       "<Figure size 432x288 with 1 Axes>"
      ]
     },
     "metadata": {},
     "output_type": "display_data"
    }
   ],
   "source": [
    "# EulerBasedTop_model violates proximity\n",
    "args = ['a', 'b', 'c']\n",
    "initial_strengths = [0.5, 0.5, 1]\n",
    "atts = [('b', 'a')]\n",
    "supps = [('c', 'b')]\n",
    "qbaf_0 = QBAFramework(args, initial_strengths, atts, supps, semantics=\"EulerBasedTop_model\")\n",
    "visualize(qbaf_0, with_fs=True)"
   ]
  },
  {
   "cell_type": "code",
   "execution_count": 44,
   "id": "compliant-block",
   "metadata": {},
   "outputs": [
    {
     "data": {
      "image/png": "[encoded data removed]",
      "text/plain": [
       "<Figure size 432x288 with 1 Axes>"
      ]
     },
     "metadata": {},
     "output_type": "display_data"
    }
   ],
   "source": [
    "args = ['a', 'b']\n",
    "initial_strengths = [0.5, 0.5]\n",
    "atts = [('b', 'a')]\n",
    "supps = []\n",
    "qbaf_0 = QBAFramework(args, initial_strengths, atts, supps, semantics=\"EulerBasedTop_model\")\n",
    "visualize(qbaf_0, with_fs=True)"
   ]
  },
  {
   "cell_type": "code",
   "execution_count": 45,
   "id": "communist-blake",
   "metadata": {},
   "outputs": [
    {
     "data": {
      "image/png": "[encoded data removed]",
      "text/plain": [
       "<Figure size 432x288 with 1 Axes>"
      ]
     },
     "metadata": {},
     "output_type": "display_data"
    }
   ],
   "source": [
    "args = ['a', 'c']\n",
    "initial_strengths = [0.5, 1]\n",
    "atts = []\n",
    "supps = []\n",
    "qbaf_0 = QBAFramework(args, initial_strengths, atts, supps, semantics=\"EulerBasedTop_model\")\n",
    "visualize(qbaf_0, with_fs=True)"
   ]
  },
  {
   "cell_type": "markdown",
   "id": "rotary-eight",
   "metadata": {},
   "source": [
    "## Removal, Intrinsic Contribution"
   ]
  },
  {
   "cell_type": "code",
   "execution_count": 46,
   "id": "outer-rapid",
   "metadata": {},
   "outputs": [
    {
     "data": {
      "image/png": "[encoded data removed]",
      "text/plain": [
       "<Figure size 432x288 with 1 Axes>"
      ]
     },
     "metadata": {},
     "output_type": "display_data"
    }
   ],
   "source": [
    "# QuadraticEnergy violates proximity\n",
    "args = ['a', 'b', 'c']\n",
    "initial_strengths = [0.5, 0.2, 1]\n",
    "atts = []\n",
    "supps = [('b', 'a'), ('c', 'b')]\n",
    "qbaf_0 = QBAFramework(args, initial_strengths, atts, supps, semantics=\"QuadraticEnergy_model\")\n",
    "visualize(qbaf_0, with_fs=True)"
   ]
  },
  {
   "cell_type": "code",
   "execution_count": 47,
   "id": "informal-progress",
   "metadata": {},
   "outputs": [
    {
     "data": {
      "image/png": "[encoded data removed]",
      "text/plain": [
       "<Figure size 432x288 with 1 Axes>"
      ]
     },
     "metadata": {},
     "output_type": "display_data"
    }
   ],
   "source": [
    "args = ['a', 'b']\n",
    "initial_strengths = [0.5, 0.2]\n",
    "atts = []\n",
    "supps = [('b', 'a')]\n",
    "qbaf_0 = QBAFramework(args, initial_strengths, atts, supps, semantics=\"QuadraticEnergy_model\")\n",
    "visualize(qbaf_0, with_fs=True)"
   ]
  },
  {
   "cell_type": "code",
   "execution_count": 48,
   "id": "developmental-burden",
   "metadata": {},
   "outputs": [
    {
     "data": {
      "image/png": "[encoded data removed]",
      "text/plain": [
       "<Figure size 432x288 with 1 Axes>"
      ]
     },
     "metadata": {},
     "output_type": "display_data"
    }
   ],
   "source": [
    "args = ['a', 'c']\n",
    "initial_strengths = [0.5, 1]\n",
    "atts = []\n",
    "supps = []\n",
    "qbaf_0 = QBAFramework(args, initial_strengths, atts, supps, semantics=\"QuadraticEnergy_model\")\n",
    "visualize(qbaf_0, with_fs=True)"
   ]
  },
  {
   "cell_type": "code",
   "execution_count": 49,
   "id": "spanish-harris",
   "metadata": {},
   "outputs": [
    {
     "data": {
      "image/png": "[encoded data removed]",
      "text/plain": [
       "<Figure size 432x288 with 1 Axes>"
      ]
     },
     "metadata": {},
     "output_type": "display_data"
    }
   ],
   "source": [
    "# SquaredDFQuAD violates proximity\n",
    "args = ['a', 'b', 'c']\n",
    "initial_strengths = [0.5, 0.2, 1]\n",
    "atts = []\n",
    "supps = [('b', 'a'), ('c', 'b')]\n",
    "qbaf_0 = QBAFramework(args, initial_strengths, atts, supps, semantics=\"SquaredDFQuAD_model\")\n",
    "visualize(qbaf_0, with_fs=True)"
   ]
  },
  {
   "cell_type": "code",
   "execution_count": 50,
   "id": "other-labor",
   "metadata": {},
   "outputs": [
    {
     "data": {
      "image/png": "[encoded data removed]",
      "text/plain": [
       "<Figure size 432x288 with 1 Axes>"
      ]
     },
     "metadata": {},
     "output_type": "display_data"
    }
   ],
   "source": [
    "args = ['a', 'b']\n",
    "initial_strengths = [0.5, 0.2]\n",
    "atts = []\n",
    "supps = [('b', 'a')]\n",
    "qbaf_0 = QBAFramework(args, initial_strengths, atts, supps, semantics=\"SquaredDFQuAD_model\")\n",
    "visualize(qbaf_0, with_fs=True)"
   ]
  },
  {
   "cell_type": "code",
   "execution_count": 51,
   "id": "massive-shore",
   "metadata": {},
   "outputs": [
    {
     "data": {
      "image/png": "[encoded data removed]",
      "text/plain": [
       "<Figure size 432x288 with 1 Axes>"
      ]
     },
     "metadata": {},
     "output_type": "display_data"
    }
   ],
   "source": [
    "args = ['a', 'c']\n",
    "initial_strengths = [0.5, 1]\n",
    "atts = []\n",
    "supps = []\n",
    "qbaf_0 = QBAFramework(args, initial_strengths, atts, supps, semantics=\"SquaredDFQuAD_model\")\n",
    "visualize(qbaf_0, with_fs=True)"
   ]
  },
  {
   "cell_type": "code",
   "execution_count": 52,
   "id": "forbidden-tribe",
   "metadata": {},
   "outputs": [
    {
     "data": {
      "image/png": "[encoded data removed]",
      "text/plain": [
       "<Figure size 432x288 with 1 Axes>"
      ]
     },
     "metadata": {},
     "output_type": "display_data"
    }
   ],
   "source": [
    "# DFQuAD violates proximity\n",
    "args = ['a', 'b', 'c']\n",
    "initial_strengths = [0.5, 0.2, 1]\n",
    "atts = []\n",
    "supps = [('b', 'a'), ('c', 'b')]\n",
    "qbaf_0 = QBAFramework(args, initial_strengths, atts, supps, semantics=\"DFQuAD_model\")\n",
    "visualize(qbaf_0, with_fs=True)"
   ]
  },
  {
   "cell_type": "code",
   "execution_count": 53,
   "id": "requested-factory",
   "metadata": {},
   "outputs": [
    {
     "data": {
      "image/png": "[encoded data removed]",
      "text/plain": [
       "<Figure size 432x288 with 1 Axes>"
      ]
     },
     "metadata": {},
     "output_type": "display_data"
    }
   ],
   "source": [
    "args = ['a', 'b']\n",
    "initial_strengths = [0.5, 0.2]\n",
    "atts = []\n",
    "supps = [('b', 'a')]\n",
    "qbaf_0 = QBAFramework(args, initial_strengths, atts, supps, semantics=\"DFQuAD_model\")\n",
    "visualize(qbaf_0, with_fs=True)"
   ]
  },
  {
   "cell_type": "code",
   "execution_count": 54,
   "id": "palestinian-translator",
   "metadata": {},
   "outputs": [
    {
     "data": {
      "image/png": "[encoded data removed]",
      "text/plain": [
       "<Figure size 432x288 with 1 Axes>"
      ]
     },
     "metadata": {},
     "output_type": "display_data"
    }
   ],
   "source": [
    "args = ['a', 'c']\n",
    "initial_strengths = [0.5, 1]\n",
    "atts = []\n",
    "supps = []\n",
    "qbaf_0 = QBAFramework(args, initial_strengths, atts, supps, semantics=\"DFQuAD_model\")\n",
    "visualize(qbaf_0, with_fs=True)"
   ]
  },
  {
   "cell_type": "code",
   "execution_count": 55,
   "id": "seasonal-mapping",
   "metadata": {},
   "outputs": [
    {
     "data": {
      "image/png": "[encoded data removed]",
      "text/plain": [
       "<Figure size 432x288 with 1 Axes>"
      ]
     },
     "metadata": {},
     "output_type": "display_data"
    }
   ],
   "source": [
    "# EulerBased violates proximity\n",
    "args = ['a', 'b', 'c']\n",
    "initial_strengths = [0.5, 0.2, 1]\n",
    "atts = []\n",
    "supps = [('b', 'a'), ('c', 'b')]\n",
    "qbaf_0 = QBAFramework(args, initial_strengths, atts, supps, semantics=\"EulerBased_model\")\n",
    "visualize(qbaf_0, with_fs=True)"
   ]
  },
  {
   "cell_type": "code",
   "execution_count": 56,
   "id": "mysterious-elements",
   "metadata": {},
   "outputs": [
    {
     "data": {
      "image/png": "[encoded data removed]",
      "text/plain": [
       "<Figure size 432x288 with 1 Axes>"
      ]
     },
     "metadata": {},
     "output_type": "display_data"
    }
   ],
   "source": [
    "args = ['a', 'b']\n",
    "initial_strengths = [0.5, 0.2]\n",
    "atts = []\n",
    "supps = [('b', 'a')]\n",
    "qbaf_0 = QBAFramework(args, initial_strengths, atts, supps, semantics=\"EulerBased_model\")\n",
    "visualize(qbaf_0, with_fs=True)"
   ]
  },
  {
   "cell_type": "code",
   "execution_count": 57,
   "id": "twenty-beatles",
   "metadata": {},
   "outputs": [
    {
     "data": {
      "image/png": "[encoded data removed]",
      "text/plain": [
       "<Figure size 432x288 with 1 Axes>"
      ]
     },
     "metadata": {},
     "output_type": "display_data"
    }
   ],
   "source": [
    "args = ['a', 'c']\n",
    "initial_strengths = [0.5, 1]\n",
    "atts = []\n",
    "supps = []\n",
    "qbaf_0 = QBAFramework(args, initial_strengths, atts, supps, semantics=\"EulerBased_model\")\n",
    "visualize(qbaf_0, with_fs=True)"
   ]
  },
  {
   "cell_type": "code",
   "execution_count": 58,
   "id": "ordinary-material",
   "metadata": {},
   "outputs": [
    {
     "data": {
      "image/png": "[encoded data removed]",
      "text/plain": [
       "<Figure size 432x288 with 1 Axes>"
      ]
     },
     "metadata": {},
     "output_type": "display_data"
    }
   ],
   "source": [
    "# EulerBased top violates proximity\n",
    "args = ['a', 'b', 'c']\n",
    "initial_strengths = [0.5, 0.2, 1]\n",
    "atts = []\n",
    "supps = [('b', 'a'), ('c', 'b')]\n",
    "qbaf_0 = QBAFramework(args, initial_strengths, atts, supps, semantics=\"EulerBasedTop_model\")\n",
    "visualize(qbaf_0, with_fs=True)"
   ]
  },
  {
   "cell_type": "code",
   "execution_count": 59,
   "id": "technological-circus",
   "metadata": {},
   "outputs": [
    {
     "data": {
      "image/png": "[encoded data removed]",
      "text/plain": [
       "<Figure size 432x288 with 1 Axes>"
      ]
     },
     "metadata": {},
     "output_type": "display_data"
    }
   ],
   "source": [
    "args = ['a', 'b']\n",
    "initial_strengths = [0.5, 0.2]\n",
    "atts = []\n",
    "supps = [('b', 'a')]\n",
    "qbaf_0 = QBAFramework(args, initial_strengths, atts, supps, semantics=\"EulerBasedTop_model\")\n",
    "visualize(qbaf_0, with_fs=True)"
   ]
  },
  {
   "cell_type": "code",
   "execution_count": 60,
   "id": "sized-dating",
   "metadata": {},
   "outputs": [
    {
     "data": {
      "image/png": "[encoded data removed]",
      "text/plain": [
       "<Figure size 432x288 with 1 Axes>"
      ]
     },
     "metadata": {},
     "output_type": "display_data"
    }
   ],
   "source": [
    "args = ['a', 'c']\n",
    "initial_strengths = [0.5, 1]\n",
    "atts = []\n",
    "supps = []\n",
    "qbaf_0 = QBAFramework(args, initial_strengths, atts, supps, semantics=\"EulerBasedTop_model\")\n",
    "visualize(qbaf_0, with_fs=True)"
   ]
  },
  {
   "cell_type": "code",
   "execution_count": 61,
   "id": "heavy-vienna",
   "metadata": {},
   "outputs": [
    {
     "data": {
      "image/png": "[encoded data removed]",
      "text/plain": [
       "<Figure size 432x288 with 1 Axes>"
      ]
     },
     "metadata": {},
     "output_type": "display_data"
    }
   ],
   "source": [
    "args = ['a', 'b', 'c_1', 'c_2', 'c_3', 'c_4', 'c_5', 'd']\n",
    "initial_strengths = [0, 0, 0, 0, 0, 0, 0, 0]\n",
    "atts = []\n",
    "supps = [('b', 'a'), ('c_1', 'b'), ('c_2', 'b'), ('c_3', 'b'), ('c_4', 'b'), ('c_5', 'b'), ('d', 'c_1'), ('d', 'c_1'), ('d', 'c_2'), ('d', 'c_3'), ('d', 'c_4'), ('d', 'c_5')]\n",
    "qbaf_0 = QBAFramework(args, initial_strengths, atts, supps, semantics=\"QuadraticEnergy_model\")\n",
    "visualize(qbaf_0, with_fs=True)"
   ]
  },
  {
   "cell_type": "code",
   "execution_count": 62,
   "id": "generous-custom",
   "metadata": {},
   "outputs": [],
   "source": [
    "args = ['a', 'b', 'd']\n",
    "initial_strengths = [0, 0, 0.001]\n",
    "atts = []\n",
    "supps = [('b', 'a')]\n",
    "for i in range(0, 1000000):\n",
    "    arg = f'c{i}'\n",
    "    args.append(arg)\n",
    "    initial_strengths.append(0)\n",
    "    supps.append((arg, 'b'))\n",
    "    supps.append(('d', arg))\n",
    "qbaf_0 = QBAFramework(args, initial_strengths, atts, supps, semantics=\"QuadraticEnergy_model\")\n",
    "# visualize(qbaf_0, with_fs=True)"
   ]
  },
  {
   "cell_type": "code",
   "execution_count": 63,
   "id": "happy-chester",
   "metadata": {},
   "outputs": [
    {
     "data": {
      "text/plain": [
       "0.19999968000740165"
      ]
     },
     "execution_count": 63,
     "metadata": {},
     "output_type": "execute_result"
    }
   ],
   "source": [
    "qbaf_0.final_strengths['a']"
   ]
  },
  {
   "cell_type": "code",
   "execution_count": 64,
   "id": "considerable-eagle",
   "metadata": {},
   "outputs": [],
   "source": [
    "args = ['a', 'b', 'd']\n",
    "initial_strengths = [0, 0.001, 0]\n",
    "atts = []\n",
    "supps = [('b', 'a')]\n",
    "for i in range(0, 1000000):\n",
    "    arg = f'c{i}'\n",
    "    args.append(arg)\n",
    "    initial_strengths.append(0)\n",
    "    supps.append((arg, 'b'))\n",
    "    supps.append(('d', arg))\n",
    "qbaf_0 = QBAFramework(args, initial_strengths, atts, supps, semantics=\"QuadraticEnergy_model\")"
   ]
  },
  {
   "cell_type": "code",
   "execution_count": 65,
   "id": "knowing-galaxy",
   "metadata": {},
   "outputs": [
    {
     "data": {
      "text/plain": [
       "9.99999000001e-07"
      ]
     },
     "execution_count": 65,
     "metadata": {},
     "output_type": "execute_result"
    }
   ],
   "source": [
    "qbaf_0.final_strengths['a']"
   ]
  },
  {
   "cell_type": "code",
   "execution_count": 66,
   "id": "bridal-medicaid",
   "metadata": {},
   "outputs": [
    {
     "name": "stdout",
     "output_type": "stream",
     "text": [
      "Intrinsic removal, QuadraticEnergy_model:\n",
      "Ctrb c to a: 0.09593396477214111\n",
      "Ctrb b to a: 0.004950495049504955\n",
      "Intrinsic removal, SquaredDFQuAD_model:\n",
      "Ctrb c to a: 0.12695924764890287\n",
      "Ctrb b to a: 0.045454545454545414\n",
      "Intrinsic removal, DFQuAD_model:\n",
      "Ctrb c to a: 0.405\n",
      "Ctrb b to a: 0.050000000000000044\n",
      "Intrinsic removal, EulerBased_model:\n",
      "Ctrb c to a: 0.018389194084511784\n",
      "Ctrb b to a: 0.01693480340541531\n",
      "Intrinsic removal, EulerBasedTop_model:\n",
      "Ctrb c to a: 0.018389194084511784\n",
      "Ctrb b to a: 0.01693480340541531\n"
     ]
    }
   ],
   "source": [
    "# QuadraticEnergy, SquaredDFQuAD, DFQuAD, EulerBased, EulerBasedTop violate proximity, given intrinsic removal ctrb function\n",
    "\n",
    "def run_example(semantics):\n",
    "    # Full QBAG\n",
    "    args = ['a', 'b', 'c']\n",
    "    initial_strengths = [0.5, 0.1, 0.9]\n",
    "    atts = []\n",
    "    supps = [('b', 'a'), ('c', 'b')]\n",
    "    qbaf_0 = QBAFramework(args, initial_strengths, atts, supps, semantics=semantics)\n",
    "\n",
    "    # QBAG without c\n",
    "    args_1 = ['a', 'b']\n",
    "    initial_strengths_1 = [0.5, 0.1]\n",
    "    atts_1 = []\n",
    "    supps_1 = [('b', 'a')]\n",
    "    qbaf_1 = QBAFramework(args_1, initial_strengths_1, atts_1, supps_1, semantics=semantics)\n",
    "\n",
    "    # QBAG without b\n",
    "    args_2 = ['a', 'c']\n",
    "    initial_strengths_2 = [0.5, 0.9]\n",
    "    atts_2 = []\n",
    "    supps_2 = []\n",
    "    qbaf_2 = QBAFramework(args_2, initial_strengths_2, atts_2, supps_2, semantics=semantics)\n",
    "\n",
    "    final_strength_a_0 = qbaf_0.final_strengths['a']\n",
    "    final_strength_a_1 = qbaf_1.final_strengths['a']\n",
    "    final_strength_a_2 = qbaf_2.final_strengths['a']\n",
    "\n",
    "    #print(f'Standard removal, {semantics}:')\n",
    "    #print(f'Ctrb c to a: {final_strength_a_0 - final_strength_a_1}')\n",
    "    #print(f'Ctrb b to a: {final_strength_a_0 - final_strength_a_2}')\n",
    "    print(f'Intrinsic removal, {semantics}:')\n",
    "    print(f'Ctrb c to a: {final_strength_a_0 - final_strength_a_1}')\n",
    "    print(f'Ctrb b to a: {final_strength_a_1 - final_strength_a_2}')\n",
    "    \n",
    "run_example(\"QuadraticEnergy_model\")\n",
    "run_example(\"SquaredDFQuAD_model\")\n",
    "run_example(\"DFQuAD_model\")\n",
    "run_example(\"EulerBased_model\")\n",
    "run_example(\"EulerBasedTop_model\")"
   ]
  },
  {
   "cell_type": "code",
   "execution_count": 67,
   "id": "affiliated-government",
   "metadata": {},
   "outputs": [
    {
     "name": "stdout",
     "output_type": "stream",
     "text": [
      "Standard removal, QuadraticEnergy_model:\n",
      "Ctrb c to a: 0.0037036122564875207\n",
      "Ctrb b to a: -0.0012468827930174342\n",
      "Standard removal, SquaredDFQuAD_model:\n",
      "Ctrb c to a: 0.021645021645021634\n",
      "Ctrb b to a: -0.023809523809523836\n",
      "Standard removal, DFQuAD_model:\n",
      "Ctrb c to a: 0.04999999999999999\n",
      "Ctrb b to a: 0.0\n",
      "Standard removal, EulerBased_model:\n",
      "Ctrb c to a: 0.008916125816814224\n",
      "Ctrb b to a: -0.007463892798544758\n",
      "Standard removal, EulerBasedTop_model:\n",
      "Ctrb c to a: 0.008916125816814224\n",
      "Ctrb b to a: -0.007463892798544758\n"
     ]
    }
   ],
   "source": [
    "# QuadraticEnergy, DFQuAD, EulerBased, EulerBasedTop violate proximity, given removal ctrb function\n",
    "\n",
    "def run_example(semantics):\n",
    "    # Full QBAG\n",
    "    args = ['a', 'b', 'c']\n",
    "    initial_strengths = [0.5, 0.1, 1]\n",
    "    atts = [('b', 'a'), ('c', 'b')]\n",
    "    supps = []\n",
    "    qbaf_0 = QBAFramework(args, initial_strengths, atts, supps, semantics=semantics)\n",
    "\n",
    "    # QBAG without c\n",
    "    args_1 = ['a', 'b']\n",
    "    initial_strengths_1 = [0.5, 0.1]\n",
    "    atts_1 = [('b', 'a')]\n",
    "    supps_1 = []\n",
    "    qbaf_1 = QBAFramework(args_1, initial_strengths_1, atts_1, supps_1, semantics=semantics)\n",
    "\n",
    "    # QBAG without b\n",
    "    args_2 = ['a', 'c']\n",
    "    initial_strengths_2 = [0.5, 1]\n",
    "    atts_2 = []\n",
    "    supps_2 = []\n",
    "    qbaf_2 = QBAFramework(args_2, initial_strengths_2, atts_2, supps_2, semantics=semantics)\n",
    "\n",
    "    final_strength_a_0 = qbaf_0.final_strengths['a']\n",
    "    final_strength_a_1 = qbaf_1.final_strengths['a']\n",
    "    final_strength_a_2 = qbaf_2.final_strengths['a']\n",
    "\n",
    "    print(f'Standard removal, {semantics}:')\n",
    "    print(f'Ctrb c to a: {final_strength_a_0 - final_strength_a_1}')\n",
    "    print(f'Ctrb b to a: {final_strength_a_0 - final_strength_a_2}')\n",
    "    #print(f'Intrinsic removal, {semantics}:')\n",
    "    #print(f'Ctrb c to a: {final_strength_a_0 - final_strength_a_1}')\n",
    "    #print(f'Ctrb b to a: {final_strength_a_1 - final_strength_a_2}')\n",
    "    \n",
    "run_example(\"QuadraticEnergy_model\")\n",
    "run_example(\"SquaredDFQuAD_model\")\n",
    "run_example(\"DFQuAD_model\")\n",
    "run_example(\"EulerBased_model\")\n",
    "run_example(\"EulerBasedTop_model\")"
   ]
  },
  {
   "cell_type": "code",
   "execution_count": 68,
   "id": "covered-mortality",
   "metadata": {},
   "outputs": [
    {
     "name": "stdout",
     "output_type": "stream",
     "text": [
      "{'c': 1.5, 'b': 0.004, 'a': 0.49800796812749004}\n",
      "Standard removal, SquaredDFQuAD_model:\n",
      "Ctrb c to a: 0.0029584631769949965\n",
      "Ctrb b to a: -0.0019920318725099584\n"
     ]
    }
   ],
   "source": [
    "# SquaredDFQuAD violates proximity, given removal ctrb function\n",
    "\n",
    "def run_example(semantics):\n",
    "    # Full QBAG\n",
    "    args = ['a', 'b', 'c']\n",
    "    initial_strengths = [0.5, 0.01, 1.5]\n",
    "    atts = [('b', 'a'), ('c', 'b')]\n",
    "    supps = []\n",
    "    qbaf_0 = QBAFramework(args, initial_strengths, atts, supps, semantics=semantics)\n",
    "\n",
    "    # QBAG without c\n",
    "    args_1 = ['a', 'b']\n",
    "    initial_strengths_1 = [0.5, 0.01]\n",
    "    atts_1 = [('b', 'a')]\n",
    "    supps_1 = []\n",
    "    qbaf_1 = QBAFramework(args_1, initial_strengths_1, atts_1, supps_1, semantics=semantics)\n",
    "\n",
    "    # QBAG without b\n",
    "    args_2 = ['a', 'c']\n",
    "    initial_strengths_2 = [0.5, 1.5]\n",
    "    atts_2 = []\n",
    "    supps_2 = []\n",
    "    qbaf_2 = QBAFramework(args_2, initial_strengths_2, atts_2, supps_2, semantics=semantics)\n",
    "\n",
    "    final_strength_a_0 = qbaf_0.final_strengths['a']\n",
    "    final_strength_a_1 = qbaf_1.final_strengths['a']\n",
    "    final_strength_a_2 = qbaf_2.final_strengths['a']\n",
    "    print(qbaf_0.final_strengths)\n",
    "\n",
    "    print(f'Standard removal, {semantics}:')\n",
    "    print(f'Ctrb c to a: {final_strength_a_0 - final_strength_a_1}')\n",
    "    print(f'Ctrb b to a: {final_strength_a_0 - final_strength_a_2}')\n",
    "    \n",
    "run_example(\"SquaredDFQuAD_model\")\n"
   ]
  },
  {
   "cell_type": "markdown",
   "id": "lasting-insert",
   "metadata": {},
   "source": [
    "## Shapley and Proximity"
   ]
  },
  {
   "cell_type": "code",
   "execution_count": 69,
   "id": "amino-location",
   "metadata": {},
   "outputs": [
    {
     "data": {
      "image/png": "[encoded data removed]",
      "text/plain": [
       "<Figure size 432x288 with 1 Axes>"
      ]
     },
     "metadata": {},
     "output_type": "display_data"
    }
   ],
   "source": [
    "import math\n",
    "from itertools import chain, combinations\n",
    "\n",
    "def get_powerset(elements):\n",
    "    lset = list(elements)\n",
    "    return chain.from_iterable(combinations(lset, option) for option in range(len(lset) + 1))\n",
    "\n",
    "def restrict(qbaf, arguments):\n",
    "    restriction_is = []\n",
    "    new_args = []\n",
    "    for arg, strength in qbaf.initial_strengths.items():\n",
    "        if arg in arguments:\n",
    "            new_args.append(arg)\n",
    "            restriction_is.append(strength)\n",
    "    restriction_atts = [(source, target) for source, target in qbaf.attack_relations.relations if source in arguments and target in arguments]\n",
    "    restriction_supps = [(source, target) for source, target in qbaf.support_relations.relations if source in arguments and target in arguments]\n",
    "    return QBAFramework(new_args, restriction_is, restriction_atts, restriction_supps, semantics=qbaf.semantics)   \n",
    "    \n",
    "args = ['a', 'b', 'c']\n",
    "is_a = 0.5\n",
    "is_b = 0.1\n",
    "is_c = 0.9\n",
    "initial_strengths = [is_a, is_b, is_c]\n",
    "atts = [('b', 'a'), ('c', 'b')]\n",
    "supps = []\n",
    "qbaf_0 = QBAFramework(args, initial_strengths, atts, supps, semantics=semantics)\n",
    "visualize(restrict(qbaf_0, ['a', 'b']), with_fs=True)"
   ]
  },
  {
   "cell_type": "code",
   "execution_count": 70,
   "id": "tropical-vitamin",
   "metadata": {},
   "outputs": [
    {
     "name": "stdout",
     "output_type": "stream",
     "text": [
      "b to a, SquaredDFQuAD_model\n",
      "-0.14583333333333331\n",
      "c to a, SquaredDFQuAD_model\n",
      "0.020833333333333315\n"
     ]
    },
    {
     "data": {
      "image/png": "[encoded data removed]",
      "text/plain": [
       "<Figure size 432x288 with 1 Axes>"
      ]
     },
     "metadata": {},
     "output_type": "display_data"
    }
   ],
   "source": [
    "def determine_sctrb(qbaf, argx, arga):\n",
    "    sub_ctrbs = []\n",
    "    reduced_args = [arg for arg in qbaf.arguments if arg not in [argx, arga]]\n",
    "    subsets = get_powerset(reduced_args)\n",
    "    for subset in subsets:\n",
    "        lsubset = list(subset)\n",
    "        qbaf_without = restrict(qbaf, [arg for arg in qbaf.arguments if arg in lsubset + [arga]])\n",
    "        qbaf_with = restrict(qbaf, [arg for arg in qbaf.arguments if arg in lsubset + [arga, argx]])\n",
    "        weight = (math.factorial(len(lsubset)) * math.factorial(len(qbaf.arguments)-2-len(lsubset)))/math.factorial(len(qbaf.arguments)-1)\n",
    "        sub_ctrb = weight * (qbaf_with.final_strengths[arga] - qbaf_without.final_strengths[arga])\n",
    "        sub_ctrbs.append(sub_ctrb)\n",
    "        # print(subset)\n",
    "        # print(sub_ctrb)\n",
    "        # print('subset', lsubset)\n",
    "        # print('weight', weight)\n",
    "        # print('sub ctrb', sub_ctrb)\n",
    "        # print('w/o weight', (qbaf_with.final_strengths[arga] - qbaf_without.final_strengths[arga]))\n",
    "        # print('without', qbaf_without.initial_strengths, qbaf_without.attack_relations.relations, qbaf_without.support_relations.relations, qbaf_without.final_strengths[arga])\n",
    "        # print('with', qbaf_with.initial_strengths, qbaf_with.attack_relations.relations, qbaf_with.support_relations.relations, qbaf_with.final_strengths[arga])\n",
    "    return sum(sub_ctrbs)\n",
    "    \n",
    "args = ['a', 'b', 'c']\n",
    "is_a = 0.5\n",
    "is_b = 0.5\n",
    "is_c = 0.5\n",
    "initial_strengths = [is_a, is_b, is_c]\n",
    "atts = [('b', 'a'), ('c', 'b')]\n",
    "supps = []\n",
    "\n",
    "def run_example():\n",
    "    print('b to a, SquaredDFQuAD_model')\n",
    "    print(determine_sctrb(QBAFramework(args, initial_strengths, atts, supps, semantics=\"SquaredDFQuAD_model\"), 'b', 'a'))\n",
    "    print('c to a, SquaredDFQuAD_model')\n",
    "    print(determine_sctrb(QBAFramework(args, initial_strengths, atts, supps, semantics=\"SquaredDFQuAD_model\"), 'c', 'a'))\n",
    "    \n",
    "run_example()\n",
    "visualize(QBAFramework(args, initial_strengths, atts, supps, semantics=\"SquaredDFQuAD_model\"), with_fs=True)"
   ]
  },
  {
   "cell_type": "code",
   "execution_count": 71,
   "id": "excess-musician",
   "metadata": {},
   "outputs": [
    {
     "name": "stdout",
     "output_type": "stream",
     "text": [
      "f to a, QuadraticEnergy_model\n",
      "-0.0005616575596397327\n",
      "e to a, QuadraticEnergy_model\n",
      "4.932615331399619e-05\n",
      "# f to a minus e to a #, QuadraticEnergy_model\n",
      "0.0005123314063257365\n",
      "# ################### #\n",
      "f to a, DFQuAD_model\n",
      "-0.037454387604166674\n",
      "e to a, DFQuAD_model\n",
      "0.010998481145833329\n",
      "# f to a minus e to a #, DFQuAD_model\n",
      "0.026455906458333345\n",
      "# ################### #\n"
     ]
    },
    {
     "data": {
      "image/png": "[encoded data removed]",
      "text/plain": [
       "<Figure size 432x288 with 1 Axes>"
      ]
     },
     "metadata": {},
     "output_type": "display_data"
    }
   ],
   "source": [
    "def run_example(semantics):\n",
    "    args = ['a', 'b', 'c', 'd', 'e', 'f']\n",
    "    initial_strengths = [0.1, 0.15, 0.15, 0.15, 0.495, 1]\n",
    "    atts = [('b', 'a'), ('c', 'a')]\n",
    "    supps = [('d', 'a'), ('e', 'b'), ('e', 'c'), ('e', 'd'), ('f', 'e')]\n",
    "\n",
    "    print(f'f to a, {semantics}')\n",
    "    f_to_a = determine_sctrb(QBAFramework(args, initial_strengths, atts, supps, semantics=f'{semantics}'), 'f', 'a')\n",
    "    print(f_to_a)\n",
    "    print(f'e to a, {semantics}')\n",
    "    e_to_a = determine_sctrb(QBAFramework(args, initial_strengths, atts, supps, semantics=f'{semantics}'), 'e', 'a')\n",
    "    print(e_to_a)\n",
    "    print(f'# f to a minus e to a #, {semantics}')\n",
    "    print(abs(f_to_a) - abs(e_to_a))\n",
    "    print('# ################### #')\n",
    "    if semantics == 'QuadraticEnergy_model':\n",
    "        visualize(QBAFramework(args, initial_strengths, atts, supps, semantics=f'{semantics}'), with_fs=True)\n",
    "run_example(\"QuadraticEnergy_model\")\n",
    "run_example(\"DFQuAD_model\")\n"
   ]
  },
  {
   "cell_type": "code",
   "execution_count": 72,
   "id": "secret-treat",
   "metadata": {},
   "outputs": [
    {
     "name": "stdout",
     "output_type": "stream",
     "text": [
      "f to a, SquaredDFQuAD_model\n",
      "0.001941185637998613\n",
      "e to a, SquaredDFQuAD_model\n",
      "0.03542976772118808\n",
      "# f to a minus e to a #, SquaredDFQuAD_model\n",
      "-0.03348858208318947\n",
      "# ################### #\n",
      "f to a, EulerBased_model\n",
      "-0.0006952321336101686\n",
      "e to a, EulerBased_model\n",
      "-0.003130145168964149\n",
      "# f to a minus e to a #, EulerBased_model\n",
      "-0.0024349130353539805\n",
      "# ################### #\n",
      "f to a, EulerBasedTop_model\n",
      "-0.00036430635751287245\n",
      "e to a, EulerBasedTop_model\n",
      "-0.0018276022903745063\n",
      "# f to a minus e to a #, EulerBasedTop_model\n",
      "-0.001463295932861634\n",
      "# ################### #\n"
     ]
    },
    {
     "data": {
      "image/png": "[encoded data removed]",
      "text/plain": [
       "<Figure size 432x288 with 1 Axes>"
      ]
     },
     "metadata": {},
     "output_type": "display_data"
    }
   ],
   "source": [
    "def run_example(semantics):\n",
    "    args = ['a', 'b', 'c', 'd', 'e', 'f']\n",
    "    initial_strengths = [0.1, 0.1, 0.2, 0.1, 0.49, 1]\n",
    "    atts = [('b', 'a'), ('c', 'a')]\n",
    "    supps = [('d', 'a'), ('e', 'b'), ('e', 'c'), ('e', 'd'), ('f', 'e')]\n",
    "    #for i in range(0, 5):\n",
    "    #    arg = f'c{i}'\n",
    "    #    args.append(arg)\n",
    "    #    initial_strengths.append(0.1)\n",
    "    #    supps.append(('e', arg))\n",
    "    #    if i % 2 == 0:\n",
    "    #        atts.append((arg, 'a'))\n",
    "    #    else:\n",
    "    #        supps.append((arg, 'a'))\n",
    "    #    supps.append(('e', arg))\n",
    "\n",
    "    print(f'f to a, {semantics}')\n",
    "    f_to_a = determine_sctrb(QBAFramework(args, initial_strengths, atts, supps, semantics=f'{semantics}'), 'f', 'a')\n",
    "    print(f_to_a)\n",
    "    print(f'e to a, {semantics}')\n",
    "    e_to_a = determine_sctrb(QBAFramework(args, initial_strengths, atts, supps, semantics=f'{semantics}'), 'e', 'a')\n",
    "    print(e_to_a)\n",
    "    print(f'# f to a minus e to a #, {semantics}')\n",
    "    print(abs(f_to_a) - abs(e_to_a))\n",
    "    print('# ################### #')\n",
    "    if semantics == 'SquaredDFQuAD_model':\n",
    "        visualize(QBAFramework(args, initial_strengths, atts, supps, semantics=f'{semantics}'), with_fs=True)\n",
    "#run_example(\"QuadraticEnergy_model\")\n",
    "run_example(\"SquaredDFQuAD_model\")\n",
    "#run_example(\"DFQuAD_model\")\n",
    "run_example(\"EulerBased_model\")\n",
    "run_example(\"EulerBasedTop_model\")"
   ]
  },
  {
   "cell_type": "code",
   "execution_count": 73,
   "id": "national-jerusalem",
   "metadata": {},
   "outputs": [
    {
     "data": {
      "image/png": "[encoded data removed]",
      "text/plain": [
       "<Figure size 432x288 with 1 Axes>"
      ]
     },
     "metadata": {
      "needs_background": "light"
     },
     "output_type": "display_data"
    },
    {
     "name": "stdout",
     "output_type": "stream",
     "text": [
      "f to a, SquaredDFQuAD_model\n",
      "-0.00367177522349936\n",
      "e to a, SquaredDFQuAD_model\n",
      "0.00044699872286079194\n",
      "# f to a minus e to a #, SquaredDFQuAD_model\n",
      "0.0032247765006385683\n",
      "# ################### #\n"
     ]
    },
    {
     "data": {
      "image/png": "[encoded data removed]",
      "text/plain": [
       "<Figure size 432x288 with 1 Axes>"
      ]
     },
     "metadata": {},
     "output_type": "display_data"
    }
   ],
   "source": [
    "import matplotlib.pyplot as plt\n",
    "import numpy as np\n",
    "\n",
    "def run_example_plot(semantics):\n",
    "    ises = []\n",
    "    fsas = []\n",
    "    for ise in range(-1000, 1000):\n",
    "        fise = ise / 1000\n",
    "        args = ['a', 'b', 'c', 'd', 'e', 'g']\n",
    "        initial_strengths = [0.5, 0.1, 0.1, 0.1, fise, 2]\n",
    "        atts = [('b', 'a'), ('c', 'a'), ('g', 'a')]\n",
    "        supps = [('d', 'a'), ('e', 'b'), ('e', 'c'), ('e', 'd')]\n",
    "        qbaf = QBAFramework(args, initial_strengths, atts, supps, semantics=f'{semantics}')\n",
    "        ises.append(fise)\n",
    "        fsas.append(qbaf.final_strengths['a'])\n",
    "    plt.plot(np.array(ises), np.array(fsas))\n",
    "    plt.show()\n",
    "    #visualize(qbaf, with_fs=True)\n",
    "        \n",
    "def run_example(semantics):\n",
    "    args = ['a', 'b', 'c', 'd', 'e', 'f', 'g']\n",
    "    initial_strengths = [0, 1, 1, 1, -0.25, 1, 2]\n",
    "    atts = [('b', 'a'), ('c', 'a'), ('g', 'a')]\n",
    "    supps = [('d', 'a'), ('e', 'b'), ('e', 'c'), ('e', 'd'), ('f', 'e')]\n",
    "    qbaf = QBAFramework(args, initial_strengths, atts, supps, semantics=f'{semantics}')\n",
    "    print(f'f to a, {semantics}')\n",
    "    f_to_a = determine_sctrb(QBAFramework(args, initial_strengths, atts, supps, semantics=f'{semantics}'), 'f', 'a')\n",
    "    print(f_to_a)\n",
    "    print(f'e to a, {semantics}')\n",
    "    e_to_a = determine_sctrb(QBAFramework(args, initial_strengths, atts, supps, semantics=f'{semantics}'), 'e', 'a')\n",
    "    print(e_to_a)\n",
    "    print(f'# f to a minus e to a #, {semantics}')\n",
    "    print(abs(f_to_a) - abs(e_to_a))\n",
    "    print('# ################### #')\n",
    "    if semantics == 'SquaredDFQuAD_model':\n",
    "        visualize(QBAFramework(args, initial_strengths, atts, supps, semantics=f'{semantics}'), with_fs=True)\n",
    "    \n",
    "run_example_plot(\"SquaredDFQuAD_model\")\n",
    "run_example(\"SquaredDFQuAD_model\")\n",
    "#run_example(\"EulerBased_model\")\n",
    "#run_example(\"EulerBasedTop_model\")"
   ]
  },
  {
   "cell_type": "code",
   "execution_count": 74,
   "id": "friendly-ensemble",
   "metadata": {},
   "outputs": [
    {
     "data": {
      "image/png": "[encoded data removed]",
      "text/plain": [
       "<Figure size 432x288 with 1 Axes>"
      ]
     },
     "metadata": {
      "needs_background": "light"
     },
     "output_type": "display_data"
    },
    {
     "name": "stdout",
     "output_type": "stream",
     "text": [
      "f to a, EulerBased_model\n",
      "-0.00025911808231329395\n",
      "e to a, EulerBased_model\n",
      "-0.00021949357351193995\n",
      "# f to a minus e to a #, EulerBased_model\n",
      "3.962450880135401e-05\n",
      "# ################### #\n"
     ]
    },
    {
     "data": {
      "image/png": "[encoded data removed]",
      "text/plain": [
       "<Figure size 432x288 with 1 Axes>"
      ]
     },
     "metadata": {},
     "output_type": "display_data"
    }
   ],
   "source": [
    "import matplotlib.pyplot as plt\n",
    "import numpy as np\n",
    "\n",
    "def run_example_plot(semantics):\n",
    "    ises = []\n",
    "    fsas = []\n",
    "    for ise in range(-1000, 1000):\n",
    "        fise = ise / 1000\n",
    "        args = ['a', 'b', 'c', 'd', 'e', 'g']\n",
    "        initial_strengths = [0.5, 0.1, 0.1, 0.51, fise, 0.27]\n",
    "        atts = [('b', 'a'), ('c', 'a'), ('g', 'a')]\n",
    "        supps = [('d', 'a'), ('e', 'b'), ('e', 'c'), ('e', 'd')]\n",
    "        qbaf = QBAFramework(args, initial_strengths, atts, supps, semantics=f'{semantics}')\n",
    "        ises.append(fise)\n",
    "        fsas.append(qbaf.final_strengths['a'])\n",
    "    plt.plot(np.array(ises), np.array(fsas))\n",
    "    plt.show()\n",
    "    #visualize(qbaf, with_fs=True)\n",
    "        \n",
    "def run_example(semantics):\n",
    "    args = ['a', 'b', 'c', 'd', 'e', 'f', 'g']\n",
    "    initial_strengths = [0.5, 0.1, 0.1, 0.51, 0.25, 1, 0.27]\n",
    "    atts = [('b', 'a'), ('c', 'a'), ('g', 'a')]\n",
    "    supps = [('d', 'a'), ('e', 'b'), ('e', 'c'), ('e', 'd'), ('f', 'e')]\n",
    "    qbaf = QBAFramework(args, initial_strengths, atts, supps, semantics=f'{semantics}')\n",
    "    print(f'f to a, {semantics}')\n",
    "    f_to_a = determine_sctrb(QBAFramework(args, initial_strengths, atts, supps, semantics=f'{semantics}'), 'f', 'a')\n",
    "    print(f_to_a)\n",
    "    print(f'e to a, {semantics}')\n",
    "    e_to_a = determine_sctrb(QBAFramework(args, initial_strengths, atts, supps, semantics=f'{semantics}'), 'e', 'a')\n",
    "    print(e_to_a)\n",
    "    print(f'# f to a minus e to a #, {semantics}')\n",
    "    print(abs(f_to_a) - abs(e_to_a))\n",
    "    print('# ################### #')\n",
    "    if semantics == 'EulerBased_model':\n",
    "        visualize(QBAFramework(args, initial_strengths, atts, supps, semantics=f'{semantics}'), with_fs=True)\n",
    "    \n",
    "run_example_plot(\"EulerBased_model\")\n",
    "#run_example(\"SquaredDFQuAD_model\")\n",
    "run_example(\"EulerBased_model\")\n",
    "#run_example(\"EulerBasedTop_model\")"
   ]
  },
  {
   "cell_type": "code",
   "execution_count": 75,
   "id": "republican-centre",
   "metadata": {},
   "outputs": [
    {
     "data": {
      "image/png": "[encoded data removed]",
      "text/plain": [
       "<Figure size 432x288 with 1 Axes>"
      ]
     },
     "metadata": {
      "needs_background": "light"
     },
     "output_type": "display_data"
    },
    {
     "name": "stdout",
     "output_type": "stream",
     "text": [
      "f to a, EulerBasedTop_model\n",
      "0.0014840923967265884\n",
      "e to a, EulerBasedTop_model\n",
      "-0.0008632168950704252\n",
      "# f to a minus e to a #, EulerBasedTop_model\n",
      "0.0006208755016561632\n",
      "# ################### #\n"
     ]
    },
    {
     "data": {
      "image/png": "[encoded data removed]",
      "text/plain": [
       "<Figure size 432x288 with 1 Axes>"
      ]
     },
     "metadata": {},
     "output_type": "display_data"
    }
   ],
   "source": [
    "import matplotlib.pyplot as plt\n",
    "import numpy as np\n",
    "\n",
    "def run_example_plot(semantics):\n",
    "    ises = []\n",
    "    fsas = []\n",
    "    for ise in range(-2000, 2000):\n",
    "        fise = ise / 1000\n",
    "        args = ['a', 'b', 'd', 'e', 'g']\n",
    "        initial_strengths = [0.5, 0.38, 0.51, fise, 0.45]\n",
    "        atts = [('b', 'a'), ('g', 'a')]\n",
    "        supps = [('d', 'a'), ('e', 'b'), ('e', 'd')]\n",
    "        qbaf = QBAFramework(args, initial_strengths, atts, supps, semantics=f'{semantics}')\n",
    "        ises.append(fise)\n",
    "        fsas.append(qbaf.final_strengths['a'])\n",
    "    plt.plot(np.array(ises), np.array(fsas))\n",
    "    plt.show()\n",
    "    #visualize(qbaf, with_fs=True)\n",
    "        \n",
    "def run_example(semantics):\n",
    "    args = ['a', 'b', 'd', 'e', 'f', 'g']\n",
    "    initial_strengths = [0.5, 0.38, 0.51, -0.25, 1, 0.45]\n",
    "    atts = [('b', 'a'), ('g', 'a'), ('f', 'e')]\n",
    "    supps = [('d', 'a'), ('e', 'b'), ('e', 'd')]\n",
    "    qbaf = QBAFramework(args, initial_strengths, atts, supps, semantics=f'{semantics}')\n",
    "    print(f'f to a, {semantics}')\n",
    "    f_to_a = determine_sctrb(QBAFramework(args, initial_strengths, atts, supps, semantics=f'{semantics}'), 'f', 'a')\n",
    "    print(f_to_a)\n",
    "    print(f'e to a, {semantics}')\n",
    "    e_to_a = determine_sctrb(QBAFramework(args, initial_strengths, atts, supps, semantics=f'{semantics}'), 'e', 'a')\n",
    "    print(e_to_a)\n",
    "    print(f'# f to a minus e to a #, {semantics}')\n",
    "    print(abs(f_to_a) - abs(e_to_a))\n",
    "    print('# ################### #')\n",
    "    if semantics == 'EulerBasedTop_model':\n",
    "        visualize(QBAFramework(args, initial_strengths, atts, supps, semantics=f'{semantics}'), with_fs=True)\n",
    "    \n",
    "run_example_plot(\"EulerBasedTop_model\")\n",
    "#run_example(\"SquaredDFQuAD_model\")\n",
    "run_example(\"EulerBasedTop_model\")\n",
    "#run_example(\"EulerBasedTop_model\")"
   ]
  },
  {
   "cell_type": "markdown",
   "id": "varied-samuel",
   "metadata": {},
   "source": [
    "## Shapley and Counterfactuality\n",
    "### Quadratic Energy"
   ]
  },
  {
   "cell_type": "code",
   "execution_count": 214,
   "id": "chubby-stocks",
   "metadata": {},
   "outputs": [
    {
     "name": "stdout",
     "output_type": "stream",
     "text": [
      "f to a, QuadraticEnergy_model\n",
      "-0.0005616575596397327\n",
      "e to a, QuadraticEnergy_model\n",
      "4.932615331399619e-05\n",
      "# f to a minus e to a #, QuadraticEnergy_model\n",
      "0.0005123314063257365\n",
      "# ################### #\n"
     ]
    },
    {
     "data": {
      "image/png": "[encoded data removed]",
      "text/plain": [
       "<Figure size 432x288 with 1 Axes>"
      ]
     },
     "metadata": {},
     "output_type": "display_data"
    }
   ],
   "source": [
    "def run_example(semantics):\n",
    "    args = ['a', 'b', 'c', 'd', 'e', 'f']\n",
    "    initial_strengths = [0.1, 0.15, 0.15, 0.15, 0.495, 1]\n",
    "    atts = [('b', 'a'), ('c', 'a')]\n",
    "    supps = [('d', 'a'), ('e', 'b'), ('e', 'c'), ('e', 'd'), ('f', 'e')]\n",
    "\n",
    "    print(f'f to a, {semantics}')\n",
    "    f_to_a = determine_sctrb(QBAFramework(args, initial_strengths, atts, supps, semantics=f'{semantics}'), 'f', 'a')\n",
    "    print(f_to_a)\n",
    "    print(f'e to a, {semantics}')\n",
    "    e_to_a = determine_sctrb(QBAFramework(args, initial_strengths, atts, supps, semantics=f'{semantics}'), 'e', 'a')\n",
    "    print(e_to_a)\n",
    "    print(f'# f to a minus e to a #, {semantics}')\n",
    "    print(abs(f_to_a) - abs(e_to_a))\n",
    "    print('# ################### #')\n",
    "    visualize(QBAFramework(args, initial_strengths, atts, supps, semantics=f'{semantics}'), with_fs=True)\n",
    "run_example(\"QuadraticEnergy_model\")"
   ]
  },
  {
   "cell_type": "code",
   "execution_count": 215,
   "id": "aggressive-sheriff",
   "metadata": {},
   "outputs": [
    {
     "data": {
      "image/png": "[encoded data removed]",
      "text/plain": [
       "<Figure size 432x288 with 1 Axes>"
      ]
     },
     "metadata": {},
     "output_type": "display_data"
    }
   ],
   "source": [
    "def run_example(semantics):\n",
    "    args = ['a', 'b', 'c', 'd', 'f']\n",
    "    initial_strengths = [0.1, 0.15, 0.15, 0.15, 1]\n",
    "    atts = [('b', 'a'), ('c', 'a')]\n",
    "    supps = [('d', 'a')]\n",
    "    visualize(QBAFramework(args, initial_strengths, atts, supps, semantics=f'{semantics}'), with_fs=True)\n",
    "run_example(\"QuadraticEnergy_model\")"
   ]
  },
  {
   "cell_type": "markdown",
   "id": "collective-yorkshire",
   "metadata": {},
   "source": [
    "### DFQuAD"
   ]
  },
  {
   "cell_type": "code",
   "execution_count": 216,
   "id": "annual-verse",
   "metadata": {},
   "outputs": [
    {
     "name": "stdout",
     "output_type": "stream",
     "text": [
      "f to a, DFQuAD_model\n",
      "-0.037454387604166674\n",
      "e to a, DFQuAD_model\n",
      "0.010998481145833329\n",
      "# f to a minus e to a #, DFQuAD_model\n",
      "0.026455906458333345\n",
      "# ################### #\n"
     ]
    },
    {
     "data": {
      "image/png": "[encoded data removed]",
      "text/plain": [
       "<Figure size 432x288 with 1 Axes>"
      ]
     },
     "metadata": {},
     "output_type": "display_data"
    }
   ],
   "source": [
    "def run_example(semantics):\n",
    "    args = ['a', 'b', 'c', 'd', 'e', 'f']\n",
    "    initial_strengths = [0.1, 0.15, 0.15, 0.15, 0.495, 1]\n",
    "    atts = [('b', 'a'), ('c', 'a')]\n",
    "    supps = [('d', 'a'), ('e', 'b'), ('e', 'c'), ('e', 'd'), ('f', 'e')]\n",
    "\n",
    "    print(f'f to a, {semantics}')\n",
    "    f_to_a = determine_sctrb(QBAFramework(args, initial_strengths, atts, supps, semantics=f'{semantics}'), 'f', 'a')\n",
    "    print(f_to_a)\n",
    "    print(f'e to a, {semantics}')\n",
    "    e_to_a = determine_sctrb(QBAFramework(args, initial_strengths, atts, supps, semantics=f'{semantics}'), 'e', 'a')\n",
    "    print(e_to_a)\n",
    "    print(f'# f to a minus e to a #, {semantics}')\n",
    "    print(abs(f_to_a) - abs(e_to_a))\n",
    "    print('# ################### #')\n",
    "    visualize(QBAFramework(args, initial_strengths, atts, supps, semantics=f'{semantics}'), with_fs=True)\n",
    "run_example(\"DFQuAD_model\")"
   ]
  },
  {
   "cell_type": "code",
   "execution_count": 217,
   "id": "faced-killing",
   "metadata": {},
   "outputs": [
    {
     "data": {
      "image/png": "[encoded data removed]",
      "text/plain": [
       "<Figure size 432x288 with 1 Axes>"
      ]
     },
     "metadata": {},
     "output_type": "display_data"
    }
   ],
   "source": [
    "def run_example(semantics):\n",
    "    args = ['a', 'b', 'c', 'd', 'f']\n",
    "    initial_strengths = [0.1, 0.15, 0.15, 0.15, 1]\n",
    "    atts = [('b', 'a'), ('c', 'a')]\n",
    "    supps = [('d', 'a')]\n",
    "    visualize(QBAFramework(args, initial_strengths, atts, supps, semantics=f'{semantics}'), with_fs=True)\n",
    "run_example(\"DFQuAD_model\")"
   ]
  },
  {
   "cell_type": "markdown",
   "id": "foster-marker",
   "metadata": {},
   "source": [
    "### Euler-based"
   ]
  },
  {
   "cell_type": "code",
   "execution_count": 269,
   "id": "widespread-basics",
   "metadata": {},
   "outputs": [
    {
     "name": "stdout",
     "output_type": "stream",
     "text": [
      "f to a, EulerBased_model\n",
      "1.2936145044928343e-05\n",
      "e to a, EulerBased_model\n",
      "3.229178853712729e-05\n",
      "# f to a minus e to a #, EulerBased_model\n",
      "-1.9355643492198946e-05\n",
      "# ################### #\n"
     ]
    },
    {
     "data": {
      "image/png": "[encoded data removed]",
      "text/plain": [
       "<Figure size 432x288 with 1 Axes>"
      ]
     },
     "metadata": {},
     "output_type": "display_data"
    }
   ],
   "source": [
    "def run_example(semantics):\n",
    "    args = ['a', 'b', 'c', 'd', 'e', 'f', 'g']\n",
    "    initial_strengths = [0.5, 0.1, 0.1, 0.51, 0.02, 1, 0.27]\n",
    "    atts = [('b', 'a'), ('c', 'a'), ('g', 'a')]\n",
    "    supps = [('d', 'a'), ('e', 'b'), ('e', 'c'), ('e', 'd'), ('f', 'e')]\n",
    "    qbaf = QBAFramework(args, initial_strengths, atts, supps, semantics=f'{semantics}')\n",
    "    print(f'f to a, {semantics}')\n",
    "    f_to_a = determine_sctrb(QBAFramework(args, initial_strengths, atts, supps, semantics=f'{semantics}'), 'f', 'a')\n",
    "    print(f_to_a)\n",
    "    print(f'e to a, {semantics}')\n",
    "    e_to_a = determine_sctrb(QBAFramework(args, initial_strengths, atts, supps, semantics=f'{semantics}'), 'e', 'a')\n",
    "    print(e_to_a)\n",
    "    print(f'# f to a minus e to a #, {semantics}')\n",
    "    print(abs(f_to_a) - abs(e_to_a))\n",
    "    print('# ################### #')\n",
    "    visualize(QBAFramework(args, initial_strengths, atts, supps, semantics=f'{semantics}'), with_fs=True, round_to=6)\n",
    "\n",
    "run_example(\"EulerBased_model\")"
   ]
  },
  {
   "cell_type": "code",
   "execution_count": 270,
   "id": "hindu-security",
   "metadata": {},
   "outputs": [
    {
     "data": {
      "image/png": "[encoded data removed]",
      "text/plain": [
       "<Figure size 432x288 with 1 Axes>"
      ]
     },
     "metadata": {},
     "output_type": "display_data"
    }
   ],
   "source": [
    "def run_example(semantics):\n",
    "    args = ['a', 'b', 'c', 'd', 'e', 'g']\n",
    "    initial_strengths = [0.5, 0.1, 0.1, 0.51, 0.02, 0.27]\n",
    "    atts = [('b', 'a'), ('c', 'a'), ('g', 'a')]\n",
    "    supps = [('d', 'a'), ('e', 'b'), ('e', 'c'), ('e', 'd')]\n",
    "    visualize(QBAFramework(args, initial_strengths, atts, supps, semantics=f'{semantics}'), with_fs=True, round_to=6)\n",
    "    \n",
    "run_example(\"EulerBased_model\")"
   ]
  },
  {
   "cell_type": "markdown",
   "id": "matched-bernard",
   "metadata": {},
   "source": [
    "### Euler-based Top"
   ]
  },
  {
   "cell_type": "code",
   "execution_count": 287,
   "id": "crazy-atlas",
   "metadata": {},
   "outputs": [
    {
     "name": "stdout",
     "output_type": "stream",
     "text": [
      "f to a, EulerBasedTop_model\n",
      "0.0023010356634770284\n",
      "e to a, EulerBasedTop_model\n",
      "-0.0009176444870274155\n",
      "# f to a minus e to a #, EulerBasedTop_model\n",
      "0.001383391176449613\n",
      "# ################### #\n"
     ]
    },
    {
     "data": {
      "image/png": "[encoded data removed]",
      "text/plain": [
       "<Figure size 432x288 with 1 Axes>"
      ]
     },
     "metadata": {},
     "output_type": "display_data"
    }
   ],
   "source": [
    "def run_example(semantics):\n",
    "    args = ['a', 'b', 'd', 'e', 'f', 'g']\n",
    "    initial_strengths = [0.5, 0.38, 0.51, -0.35, 1, 0.45]\n",
    "    atts = [('b', 'a'), ('g', 'a'), ('f', 'e')]\n",
    "    supps = [('d', 'a'), ('e', 'b'), ('e', 'd')]\n",
    "    qbaf = QBAFramework(args, initial_strengths, atts, supps, semantics=f'{semantics}')\n",
    "    print(f'f to a, {semantics}')\n",
    "    f_to_a = determine_sctrb(QBAFramework(args, initial_strengths, atts, supps, semantics=f'{semantics}'), 'f', 'a')\n",
    "    print(f_to_a)\n",
    "    print(f'e to a, {semantics}')\n",
    "    e_to_a = determine_sctrb(QBAFramework(args, initial_strengths, atts, supps, semantics=f'{semantics}'), 'e', 'a')\n",
    "    print(e_to_a)\n",
    "    print(f'# f to a minus e to a #, {semantics}')\n",
    "    print(abs(f_to_a) - abs(e_to_a))\n",
    "    print('# ################### #')\n",
    "    visualize(QBAFramework(args, initial_strengths, atts, supps, semantics=f'{semantics}'), with_fs=True, round_to=6)\n",
    "\n",
    "run_example(\"EulerBasedTop_model\")"
   ]
  },
  {
   "cell_type": "code",
   "execution_count": 288,
   "id": "received-faith",
   "metadata": {},
   "outputs": [
    {
     "data": {
      "image/png": "[encoded data removed]",
      "text/plain": [
       "<Figure size 432x288 with 1 Axes>"
      ]
     },
     "metadata": {},
     "output_type": "display_data"
    }
   ],
   "source": [
    "def run_example(semantics):\n",
    "    args = ['a', 'b', 'd', 'e', 'g']\n",
    "    initial_strengths = [0.5, 0.38, 0.51, -0.35, 0.45]\n",
    "    atts = [('b', 'a'), ('g', 'a')]\n",
    "    supps = [('d', 'a'), ('e', 'b'), ('e', 'd')]\n",
    "    visualize(QBAFramework(args, initial_strengths, atts, supps, semantics=f'{semantics}'), with_fs=True, round_to=6)\n",
    "\n",
    "run_example(\"EulerBasedTop_model\")"
   ]
  },
  {
   "cell_type": "code",
   "execution_count": 140,
   "id": "banned-ordinance",
   "metadata": {},
   "outputs": [
    {
     "name": "stdout",
     "output_type": "stream",
     "text": [
      "f to a, SquaredDFQuAD_model\n",
      "0.001078173270046729\n",
      "e to a, SquaredDFQuAD_model\n",
      "0.0009158114158360486\n",
      "# f to a minus e to a #, SquaredDFQuAD_model\n",
      "0.00016236185421068046\n",
      "# ################### #\n"
     ]
    },
    {
     "data": {
      "image/png": "[encoded data removed]",
      "text/plain": [
       "<Figure size 432x288 with 1 Axes>"
      ]
     },
     "metadata": {},
     "output_type": "display_data"
    }
   ],
   "source": [
    "def run_example(semantics):\n",
    "    args = ['a', 'b', 'c', 'd', 'e', 'f', 'g']\n",
    "    initial_strengths = [0.5, 0.5, 0.5, 0.5, -0.45, 0.2, 0.7]\n",
    "    atts = [('b', 'a'), ('c', 'a'), ('g', 'a')]\n",
    "    supps = [('d', 'a'), ('e', 'b'), ('e', 'c'), ('e', 'd'), ('f', 'e')]\n",
    "    qbaf = QBAFramework(args, initial_strengths, atts, supps, semantics=f'{semantics}')\n",
    "    print(f'f to a, {semantics}')\n",
    "    f_to_a = determine_sctrb(QBAFramework(args, initial_strengths, atts, supps, semantics=f'{semantics}'), 'f', 'a')\n",
    "    print(f_to_a)\n",
    "    print(f'e to a, {semantics}')\n",
    "    e_to_a = determine_sctrb(QBAFramework(args, initial_strengths, atts, supps, semantics=f'{semantics}'), 'e', 'a')\n",
    "    print(e_to_a)\n",
    "    print(f'# f to a minus e to a #, {semantics}')\n",
    "    print(abs(f_to_a) - abs(e_to_a))\n",
    "    print('# ################### #')\n",
    "    visualize(QBAFramework(args, initial_strengths, atts, supps, semantics=f'{semantics}'), with_fs=True)\n",
    "    \n",
    "run_example(\"SquaredDFQuAD_model\")"
   ]
  },
  {
   "cell_type": "code",
   "execution_count": 141,
   "id": "suburban-hundred",
   "metadata": {},
   "outputs": [
    {
     "data": {
      "image/png": "[encoded data removed]",
      "text/plain": [
       "<Figure size 432x288 with 1 Axes>"
      ]
     },
     "metadata": {},
     "output_type": "display_data"
    }
   ],
   "source": [
    "def run_example(semantics):\n",
    "    args = ['a', 'b', 'c', 'd', 'f', 'g']\n",
    "    initial_strengths = [0.5, 0.5, 0.5, 0.5, 0.2, 0.7]\n",
    "    atts = [('b', 'a'), ('c', 'a'), ('g', 'a')]\n",
    "    supps = [('d', 'a')]\n",
    "    visualize(QBAFramework(args, initial_strengths, atts, supps, semantics=f'{semantics}'), with_fs=True)\n",
    "    \n",
    "run_example(\"SquaredDFQuAD_model\")"
   ]
  },
  {
   "cell_type": "code",
   "execution_count": null,
   "id": "certain-bedroom",
   "metadata": {},
   "outputs": [],
   "source": [
    "### Squared DFQuAD"
   ]
  },
  {
   "cell_type": "code",
   "execution_count": 80,
   "id": "nervous-associate",
   "metadata": {},
   "outputs": [
    {
     "data": {
      "image/png": "[encoded data removed]",
      "text/plain": [
       "<Figure size 432x288 with 1 Axes>"
      ]
     },
     "metadata": {},
     "output_type": "display_data"
    }
   ],
   "source": [
    "args = ['a', 'd']\n",
    "initial_strengths = [0.5, 1]\n",
    "atts = []\n",
    "supps = []\n",
    "for i in range(0, 5):\n",
    "    arg = f'c{i}'\n",
    "    args.append(arg)\n",
    "    initial_strengths.append(0)\n",
    "    supps.append(('d', arg))\n",
    "visualize(QBAFramework(args, initial_strengths, atts, supps, semantics=f'{semantics}'), with_fs=True)"
   ]
  },
  {
   "cell_type": "code",
   "execution_count": 81,
   "id": "another-raleigh",
   "metadata": {},
   "outputs": [
    {
     "data": {
      "image/png": "[encoded data removed]",
      "text/plain": [
       "<Figure size 432x288 with 1 Axes>"
      ]
     },
     "metadata": {},
     "output_type": "display_data"
    }
   ],
   "source": [
    "args = ['a', 'b', 'd']\n",
    "initial_strengths = [0.5, 0, 1]\n",
    "atts = []\n",
    "supps = [('b', 'a')]\n",
    "for i in range(0, 2):\n",
    "    arg = f'c{i}'\n",
    "    args.append(arg)\n",
    "    initial_strengths.append(0)\n",
    "    supps.append((arg, 'b'))\n",
    "    supps.append(('d', arg))\n",
    "visualize(QBAFramework(args, initial_strengths, atts, supps, semantics=f'{semantics}'), with_fs=True)"
   ]
  },
  {
   "cell_type": "code",
   "execution_count": 82,
   "id": "sophisticated-graduate",
   "metadata": {},
   "outputs": [
    {
     "data": {
      "image/png": "[encoded data removed]",
      "text/plain": [
       "<Figure size 432x288 with 1 Axes>"
      ]
     },
     "metadata": {},
     "output_type": "display_data"
    }
   ],
   "source": [
    "args = ['a', 'b', 'd']\n",
    "initial_strengths = [0.5, 0, 1]\n",
    "atts = []\n",
    "supps = [('b', 'a')]\n",
    "for i in range(0, 1):\n",
    "    arg = f'c{i}'\n",
    "    args.append(arg)\n",
    "    initial_strengths.append(0)\n",
    "    supps.append((arg, 'b'))\n",
    "    supps.append(('d', arg))\n",
    "visualize(QBAFramework(args, initial_strengths, atts, supps, semantics=f'{semantics}'), with_fs=True)"
   ]
  },
  {
   "cell_type": "code",
   "execution_count": 83,
   "id": "hazardous-program",
   "metadata": {},
   "outputs": [
    {
     "name": "stdout",
     "output_type": "stream",
     "text": [
      "Shapley, QuadraticEnergy_model:\n",
      "Ctrb c to a: 0.003428934537043349\n",
      "Ctrb b to a: -0.006472055561966561\n",
      "Shapley, SquaredDFQuAD_model:\n",
      "Ctrb c to a: 0.020454545454545447\n",
      "Ctrb b to a: -0.07045454545454549\n"
     ]
    }
   ],
   "source": [
    "# QuadraticEnergy, SquaredDFQuAD, DFQuAD, EulerBased, EulerBasedTop violate proximity, given shapley ctrb function\n",
    "\n",
    "def run_example(semantics):\n",
    "    # Full QBAG\n",
    "    args = ['a', 'b', 'c']\n",
    "    is_a = 0.5\n",
    "    is_b = 0.1\n",
    "    is_c = 0.9\n",
    "    initial_strengths = [is_a, is_b, is_c]\n",
    "    atts = [('b', 'a'), ('c', 'b')]\n",
    "    supps = []\n",
    "    qbaf_0 = QBAFramework(args, initial_strengths, atts, supps, semantics=semantics)\n",
    "\n",
    "    # QBAG without c\n",
    "    args_1 = ['a', 'b']\n",
    "    initial_strengths_1 = [is_a, is_b]\n",
    "    atts_1 = [('b', 'a')]\n",
    "    supps_1 = []\n",
    "    qbaf_1 = QBAFramework(args_1, initial_strengths_1, atts_1, supps_1, semantics=semantics)\n",
    "\n",
    "    # QBAG without b\n",
    "    args_2 = ['a', 'c']\n",
    "    initial_strengths_2 = [is_a, is_c]\n",
    "    atts_2 = []\n",
    "    supps_2 = []\n",
    "    qbaf_2 = QBAFramework(args_2, initial_strengths_2, atts_2, supps_2, semantics=semantics)\n",
    "\n",
    "    final_strength_a_0 = qbaf_0.final_strengths['a']\n",
    "    final_strength_a_1 = qbaf_1.final_strengths['a']\n",
    "    final_strength_a_2 = qbaf_2.final_strengths['a']\n",
    "\n",
    "    print(f'Shapley, {semantics}:')\n",
    "    print(f'Ctrb c to a: {((final_strength_a_0 - final_strength_a_1))}')\n",
    "    print(f'Ctrb b to a: {((final_strength_a_0 - final_strength_a_2) + (final_strength_a_1 - is_a))}')\n",
    "    \n",
    "run_example(\"QuadraticEnergy_model\")\n",
    "run_example(\"SquaredDFQuAD_model\")\n",
    "#run_example(\"DFQuAD_model\")\n",
    "#run_example(\"EulerBased_model\")\n",
    "#run_example(\"EulerBasedTop_model\")"
   ]
  },
  {
   "cell_type": "code",
   "execution_count": 84,
   "id": "aware-exploration",
   "metadata": {},
   "outputs": [
    {
     "name": "stdout",
     "output_type": "stream",
     "text": [
      "Shapley, QuadraticEnergy_model:\n",
      "Ctrb c to a: 0.09593396477214111\n",
      "Ctrb b to a: 0.10583495487115102\n",
      "Shapley, SquaredDFQuAD_model:\n",
      "Ctrb c to a: 0.12695924764890287\n",
      "Ctrb b to a: 0.2178683385579937\n",
      "Shapley, DFQuAD_model:\n",
      "Ctrb c to a: 0.405\n",
      "Ctrb b to a: 0.5050000000000001\n",
      "Shapley, EulerBased_model:\n",
      "Ctrb c to a: 0.018389194084511784\n",
      "Ctrb b to a: 0.052258800895342405\n",
      "Shapley, EulerBasedTop_model:\n",
      "Ctrb c to a: 0.018389194084511784\n",
      "Ctrb b to a: 0.052258800895342405\n"
     ]
    }
   ],
   "source": [
    "# QuadraticEnergy, SquaredDFQuAD, DFQuAD, EulerBased, EulerBasedTop violate proximity, given shapley ctrb function\n",
    "\n",
    "def run_example(semantics):\n",
    "    # Full QBAG\n",
    "    args = ['a', 'b', 'c']\n",
    "    is_a = 0.5\n",
    "    is_b = 0.1\n",
    "    is_c = 0.9\n",
    "    initial_strengths = [is_a, is_b, is_c]\n",
    "    atts = []\n",
    "    supps = [('b', 'a'), ('c', 'b')]\n",
    "    qbaf_0 = QBAFramework(args, initial_strengths, atts, supps, semantics=semantics)\n",
    "\n",
    "    # QBAG without c\n",
    "    args_1 = ['a', 'b']\n",
    "    initial_strengths_1 = [is_a, is_b]\n",
    "    atts_1 = []\n",
    "    supps_1 = [('b', 'a')]\n",
    "    qbaf_1 = QBAFramework(args_1, initial_strengths_1, atts_1, supps_1, semantics=semantics)\n",
    "\n",
    "    # QBAG without b\n",
    "    args_2 = ['a', 'c']\n",
    "    initial_strengths_2 = [is_a, is_c]\n",
    "    atts_2 = []\n",
    "    supps_2 = []\n",
    "    qbaf_2 = QBAFramework(args_2, initial_strengths_2, atts_2, supps_2, semantics=semantics)\n",
    "\n",
    "    final_strength_a_0 = qbaf_0.final_strengths['a']\n",
    "    final_strength_a_1 = qbaf_1.final_strengths['a']\n",
    "    final_strength_a_2 = qbaf_2.final_strengths['a']\n",
    "\n",
    "    print(f'Shapley, {semantics}:')\n",
    "    print(f'Ctrb c to a: {((final_strength_a_0 - final_strength_a_1))}')\n",
    "    print(f'Ctrb b to a: {((final_strength_a_0 - final_strength_a_2) + (final_strength_a_1 - is_a))}')\n",
    "    \n",
    "run_example(\"QuadraticEnergy_model\")\n",
    "run_example(\"SquaredDFQuAD_model\")\n",
    "run_example(\"DFQuAD_model\")\n",
    "run_example(\"EulerBased_model\")\n",
    "run_example(\"EulerBasedTop_model\")"
   ]
  },
  {
   "cell_type": "code",
   "execution_count": 85,
   "id": "broadband-camel",
   "metadata": {},
   "outputs": [
    {
     "name": "stdout",
     "output_type": "stream",
     "text": [
      "Standard removal, QuadraticEnergy_model:\n",
      "Ctrb c to a: -0.19999999999999996\n",
      "Ctrb b to a: -0.19999999999999996\n",
      "Intrinsic removal, QuadraticEnergy_model:\n",
      "Ctrb c to a: -0.19999999999999996\n",
      "Ctrb b to a: 0.0\n",
      "Standard removal, SquaredDFQuAD_model:\n",
      "Ctrb c to a: -0.33333333333333326\n",
      "Ctrb b to a: -0.33333333333333326\n",
      "Intrinsic removal, SquaredDFQuAD_model:\n",
      "Ctrb c to a: -0.33333333333333326\n",
      "Ctrb b to a: 0.0\n",
      "Standard removal, DFQuAD_model:\n",
      "Ctrb c to a: -1.0\n",
      "Ctrb b to a: -1.0\n",
      "Intrinsic removal, DFQuAD_model:\n",
      "Ctrb c to a: -1.0\n",
      "Ctrb b to a: 0.0\n",
      "Standard removal, EulerBased_model:\n",
      "Ctrb c to a: 0.0\n",
      "Ctrb b to a: 0.0\n",
      "Intrinsic removal, EulerBased_model:\n",
      "Ctrb c to a: 0.0\n",
      "Ctrb b to a: 0.0\n",
      "Standard removal, EulerBasedTop_model:\n",
      "Ctrb c to a: 0.0\n",
      "Ctrb b to a: 0.0\n",
      "Intrinsic removal, EulerBasedTop_model:\n",
      "Ctrb c to a: 0.0\n",
      "Ctrb b to a: 0.0\n"
     ]
    }
   ],
   "source": [
    "# QuadraticEnergy, SquaredDFQuAD, DFQuAD violate counterfactuality, given intrinsic removal ctrb function\n",
    "\n",
    "def run_example(semantics):\n",
    "    # Full QBAG\n",
    "    args = ['a', 'b', 'c']\n",
    "    initial_strengths = [1, 0, 1]\n",
    "    atts = [('b', 'a')]\n",
    "    supps = [('c', 'b')]\n",
    "    qbaf_0 = QBAFramework(args, initial_strengths, atts, supps, semantics=semantics)\n",
    "\n",
    "    # QBAG without c\n",
    "    args_1 = ['a', 'b']\n",
    "    initial_strengths_1 = [1, 0]\n",
    "    atts_1 = [('b', 'a')]\n",
    "    supps_1 = []\n",
    "    qbaf_1 = QBAFramework(args_1, initial_strengths_1, atts_1, supps_1, semantics=semantics)\n",
    "\n",
    "    # QBAG without b\n",
    "    args_2 = ['a', 'c']\n",
    "    initial_strengths_2 = [1, 1]\n",
    "    atts_2 = []\n",
    "    supps_2 = []\n",
    "    qbaf_2 = QBAFramework(args_2, initial_strengths_2, atts_2, supps_2, semantics=semantics)\n",
    "\n",
    "    final_strength_a_0 = qbaf_0.final_strengths['a']\n",
    "    final_strength_a_1 = qbaf_1.final_strengths['a']\n",
    "    final_strength_a_2 = qbaf_2.final_strengths['a']\n",
    "\n",
    "    print(f'Standard removal, {semantics}:')\n",
    "    print(f'Ctrb c to a: {final_strength_a_0 - final_strength_a_1}')\n",
    "    print(f'Ctrb b to a: {final_strength_a_0 - final_strength_a_2}')\n",
    "    print(f'Intrinsic removal, {semantics}:')\n",
    "    print(f'Ctrb c to a: {final_strength_a_0 - final_strength_a_1}')\n",
    "    print(f'Ctrb b to a: {final_strength_a_1 - final_strength_a_2}')\n",
    "    \n",
    "run_example(\"QuadraticEnergy_model\")\n",
    "run_example(\"SquaredDFQuAD_model\")\n",
    "run_example(\"DFQuAD_model\")\n",
    "run_example(\"EulerBased_model\")\n",
    "run_example(\"EulerBasedTop_model\")"
   ]
  },
  {
   "cell_type": "code",
   "execution_count": 86,
   "id": "specialized-cornwall",
   "metadata": {},
   "outputs": [
    {
     "name": "stdout",
     "output_type": "stream",
     "text": [
      "0.3138105718617563 0.4245224032141739 0.3665218026227227\n",
      "Standard removal, EulerBased_model:\n",
      "Ctrb c to a: -0.11071183135241758\n",
      "Ctrb b to a: -0.0527112307609664\n",
      "Intrinsic removal, EulerBased_model:\n",
      "Ctrb c to a: -0.11071183135241758\n",
      "Ctrb b to a: -0.04124612911013392\n",
      "0.3665218026227227 0.4245224032141739 0.3665218026227227\n",
      "Standard removal, EulerBasedTop_model:\n",
      "Ctrb c to a: -0.05800060059145118\n",
      "Ctrb b to a: 0.0\n",
      "Intrinsic removal, EulerBasedTop_model:\n",
      "Ctrb c to a: -0.05800060059145118\n",
      "Ctrb b to a: 0.0\n"
     ]
    },
    {
     "data": {
      "image/png": "[encoded data removed]",
      "text/plain": [
       "<Figure size 432x288 with 1 Axes>"
      ]
     },
     "metadata": {},
     "output_type": "display_data"
    }
   ],
   "source": [
    "# EulerBased, EulerBasedTop violate counterfactuality, given intrinsic removal ctrb function\n",
    "\n",
    "def run_example(semantics):\n",
    "    # Full QBAG\n",
    "    args = ['a', 'b', 'c']\n",
    "    initial_strengths = [0.5, 0.5, 1]\n",
    "    atts = [('b', 'a'), ('c', 'a')]\n",
    "    supps = [('c', 'b')]\n",
    "    qbaf_0 = QBAFramework(args, initial_strengths, atts, supps, semantics=semantics)\n",
    "\n",
    "    # QBAG without c\n",
    "    args_1 = ['a', 'b']\n",
    "    initial_strengths_1 = [0.5, 0.5]\n",
    "    atts_1 = [('b', 'a')]\n",
    "    supps_1 = []\n",
    "    qbaf_1 = QBAFramework(args_1, initial_strengths_1, atts_1, supps_1, semantics=semantics)\n",
    "    \n",
    "    # QBAG without support from c to b\n",
    "    args_1b = ['a', 'b', 'c']\n",
    "    initial_strengths_1b = [0.5, 0.5, 1]\n",
    "    atts_1b = [('b', 'a'), ('c', 'a')]\n",
    "    supps_1b = []\n",
    "    qbaf_1b = QBAFramework(args_1b, initial_strengths_1b, atts_1b, supps_1b, semantics=semantics)\n",
    "\n",
    "    # QBAG without b\n",
    "    args_2 = ['a', 'c']\n",
    "    initial_strengths_2 = [0.5, 1]\n",
    "    atts_2 = [('c', 'a')]\n",
    "    supps_2 = []\n",
    "    qbaf_2 = QBAFramework(args_2, initial_strengths_2, atts_2, supps_2, semantics=semantics)\n",
    "\n",
    "    final_strength_a_0 = qbaf_0.final_strengths['a']\n",
    "    final_strength_a_1 = qbaf_1.final_strengths['a']\n",
    "    final_strength_a_1b = qbaf_1b.final_strengths['a']\n",
    "    final_strength_a_2 = qbaf_2.final_strengths['a']\n",
    "\n",
    "    print(final_strength_a_0, final_strength_a_1, final_strength_a_2)\n",
    "    print(f'Standard removal, {semantics}:')\n",
    "    print(f'Ctrb c to a: {final_strength_a_0 - final_strength_a_1}')\n",
    "    print(f'Ctrb b to a: {final_strength_a_0 - final_strength_a_2}')\n",
    "    print(f'Intrinsic removal, {semantics}:')\n",
    "    print(f'Ctrb c to a: {final_strength_a_0 - final_strength_a_1}')\n",
    "    print(f'Ctrb b to a: {final_strength_a_1b - final_strength_a_2}')\n",
    "    visualize(qbaf_0, with_fs=True)\n",
    "\n",
    "run_example(\"EulerBased_model\")\n",
    "run_example(\"EulerBasedTop_model\")\n"
   ]
  },
  {
   "cell_type": "code",
   "execution_count": null,
   "id": "champion-patrick",
   "metadata": {},
   "outputs": [],
   "source": []
  }
 ],
 "metadata": {
  "kernelspec": {
   "display_name": "Python 3 (ipykernel)",
   "language": "python",
   "name": "python3"
  },
  "language_info": {
   "codemirror_mode": {
    "name": "ipython",
    "version": 3
   },
   "file_extension": ".py",
   "mimetype": "text/x-python",
   "name": "python",
   "nbconvert_exporter": "python",
   "pygments_lexer": "ipython3",
   "version": "3.9.13"
  }
 },
 "nbformat": 4,
 "nbformat_minor": 5
}
