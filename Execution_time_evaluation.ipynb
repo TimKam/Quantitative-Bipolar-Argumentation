{
  "nbformat": 4,
  "nbformat_minor": 0,
  "metadata": {
    "colab": {
      "provenance": [],
      "machine_shape": "hm"
    },
    "kernelspec": {
      "name": "python3",
      "display_name": "Python 3"
    },
    "language_info": {
      "name": "python"
    }
  },
  "cells": [
    {
      "cell_type": "markdown",
      "source": [
        "# Install QBAF-Py"
      ],
      "metadata": {
        "id": "opaVikVd6i_H"
      }
    },
    {
      "cell_type": "code",
      "execution_count": null,
      "metadata": {
        "id": "OXe5cOs06c6T"
      },
      "outputs": [],
      "source": [
        "%%capture\n",
        "!apt install libgraphviz-dev # Necessary to install the visualizer in google colab"
      ]
    },
    {
      "cell_type": "code",
      "source": [
        "%%capture\n",
        "# Install QBAF-Py and the visualizer dependency\n",
        "!git clone https://github.com/TimKam/Quantitative-Bipolar-Argumentation\n",
        "!pip install ./Quantitative-Bipolar-Argumentation[visualizer]"
      ],
      "metadata": {
        "id": "j38huE2m6gpX"
      },
      "execution_count": null,
      "outputs": []
    },
    {
      "cell_type": "code",
      "source": [
        "# get CPU spec\n",
        "!cat /proc/cpuinfo"
      ],
      "metadata": {
        "id": "7xciQAULFZoH"
      },
      "execution_count": null,
      "outputs": []
    },
    {
      "cell_type": "markdown",
      "source": [
        "# Execution times"
      ],
      "metadata": {
        "id": "FVvU3sjK7RFj"
      }
    },
    {
      "cell_type": "markdown",
      "source": [
        "## Helper code"
      ],
      "metadata": {
        "id": "-HQM6kFv9Kwe"
      }
    },
    {
      "cell_type": "code",
      "source": [
        "# Imports\n",
        "import time\n",
        "import random\n",
        "\n",
        "from statistics import mean\n",
        "\n",
        "from qbaf import QBAFramework, QBAFARelations\n",
        "from qbaf_visualizer.Visualizer import visualize"
      ],
      "metadata": {
        "id": "IG2zIEgw7Rcc"
      },
      "execution_count": null,
      "outputs": []
    },
    {
      "cell_type": "code",
      "source": [
        "def QBAF_relations(qbaf:QBAFramework) -> list:\n",
        "  return list(qbaf.attack_relations.relations) + list(qbaf.support_relations.relations)\n",
        "\n",
        "def QBAF_contains_relation(qbaf:QBAFramework, agent, patient) -> bool:\n",
        "  return qbaf.contains_attack_relation(agent, patient) or qbaf.contains_support_relation(agent, patient)"
      ],
      "metadata": {
        "id": "31DMtLLwFz8D"
      },
      "execution_count": null,
      "outputs": []
    },
    {
      "cell_type": "code",
      "source": [
        "# Pop random item from a list\n",
        "def pop_random(l:list):\n",
        "  assert len(l) > 0\n",
        "  index = random.randint(0, len(l) - 1)\n",
        "  item = l[index]\n",
        "  del l[index]\n",
        "  return item\n",
        "\n",
        "# Get random item from list\n",
        "def get_random(l:list):\n",
        "  assert len(l) > 0\n",
        "  index = random.randint(0, len(l) - 1)\n",
        "  item = l[index]\n",
        "  return item"
      ],
      "metadata": {
        "id": "dam2J2QCGzkT"
      },
      "execution_count": null,
      "outputs": []
    },
    {
      "cell_type": "code",
      "source": [
        "# Modify a qbaf randomly\n",
        "def modify_QBAF_random(qbaf:QBAFramework, n_modify_arguments:int, n_remove_relations:int, n_add_relations:int) -> QBAFramework:\n",
        "  assert n_modify_arguments >= 0 and n_modify_arguments <= len(qbaf.arguments)\n",
        "  assert n_remove_relations >= 0 and n_remove_relations <= (len(qbaf.attack_relations) + len(qbaf.support_relations))\n",
        "  assert n_add_relations >= 0\n",
        "\n",
        "  # Modify arguments\n",
        "  arguments = list(qbaf.arguments)\n",
        "  for _ in range(n_modify_arguments):\n",
        "    arg = pop_random(arguments)\n",
        "    i_strength = random.uniform(0, 1)\n",
        "    qbaf.modify_initial_strength(arg, i_strength)\n",
        "\n",
        "  # Remove relations\n",
        "  relations = QBAF_relations(qbaf)\n",
        "  for _ in range(n_remove_relations):\n",
        "    agent, patient = pop_random(relations)\n",
        "    qbaf.remove_attack_relation(agent, patient)\n",
        "    qbaf.remove_support_relation(agent, patient)\n",
        "\n",
        "  # Add relations\n",
        "  added_relations = 0\n",
        "  while added_relations < n_add_relations:\n",
        "    arguments = list(qbaf.arguments)\n",
        "    arg1 = pop_random(arguments)\n",
        "    arg2 = get_random(arguments)\n",
        "    if QBAF_contains_relation(qbaf, arg1, arg2):\n",
        "      continue\n",
        "    if random.randint(0, 1) == 1:\n",
        "      qbaf.add_attack_relation(arg1, arg2)\n",
        "    else:\n",
        "      qbaf.add_support_relation(arg1, arg2)\n",
        "    added_relations += 1\n",
        "\n",
        "    # Check that the QBAF is acyclic\n",
        "    if not qbaf.isacyclic():\n",
        "      qbaf.remove_attack_relation(arg1, arg2)\n",
        "      qbaf.remove_support_relation(arg1, arg2)\n",
        "      added_relations -= 1\n",
        "\n",
        "  return qbaf\n",
        "\n",
        "# Modify a qbaf randomly, for change explanations\n",
        "def modify_QBAF_random_update(qbaf:QBAFramework, n_modify_arguments:int) -> QBAFramework:\n",
        "  assert n_modify_arguments >= 0 and n_modify_arguments <= len(qbaf.arguments)\n",
        "\n",
        "  qbaf_backup = qbaf.copy()\n",
        "  # Modify arguments\n",
        "  arguments = list(qbaf.arguments)\n",
        "  for i in range(n_modify_arguments):\n",
        "    if i <= i/5: # remove argument\n",
        "      arg = pop_random(arguments)\n",
        "      relations = QBAF_relations(qbaf)\n",
        "      for agent, patient in relations:\n",
        "        if agent == arg or patient == arg:\n",
        "          qbaf.remove_attack_relation(agent, patient)\n",
        "          qbaf.remove_support_relation(agent, patient)\n",
        "      qbaf.remove_argument(arg)\n",
        "    elif i <= 2 * (i/5): # change strength\n",
        "      arg = pop_random(arguments)\n",
        "      i_strength = random.uniform(0, 1)\n",
        "      qbaf.modify_initial_strength(arg, i_strength)\n",
        "    elif i <= 3 * (i/5):\n",
        "      # remove relation\n",
        "      relations = QBAF_relations(qbaf)\n",
        "      agent, patient = pop_random(relations)\n",
        "      qbaf.remove_attack_relation(agent, patient)\n",
        "      qbaf.remove_support_relation(agent, patient)\n",
        "    elif i <= 3 * (i/5): # add relation\n",
        "      arguments = list(qbaf.arguments)\n",
        "      arg1 = pop_random(arguments)\n",
        "      arg2 = get_random(arguments)\n",
        "      if QBAF_contains_relation(qbaf, arg1, arg2):\n",
        "        continue\n",
        "      if random.randint(0, 1) == 1:\n",
        "        qbaf.add_attack_relation(arg1, arg2)\n",
        "      else:\n",
        "        qbaf.add_support_relation(arg1, arg2)\n",
        "    else: # add argument\n",
        "        qbaf.add_argument(f'a{i}', random.uniform(0, 1))\n",
        "        arguments = list(qbaf.arguments)\n",
        "        # add on average 1 relation, outgoing\n",
        "        for _ in range(random.choice([0, 1, 2])):\n",
        "          relations = QBAF_relations(qbaf)\n",
        "          arg2 = pop_random(arguments)\n",
        "          if random.randint(0, 1) == 1:\n",
        "            qbaf.add_attack_relation(f'a{i}', arg2)\n",
        "          else:\n",
        "            qbaf.add_support_relation(f'a{i}', arg2)\n",
        "        # add on average 1/5 relation, incoming\n",
        "        for _ in range(random.choice([0, 0, 0, 0, 1])):\n",
        "          relations = QBAF_relations(qbaf)\n",
        "          arg2 = pop_random(arguments)\n",
        "          if random.randint(0,1) == 1:\n",
        "            qbaf.add_attack_relation(arg2, f'a{i}')\n",
        "          else:\n",
        "            qbaf.add_support_relation(arg2, f'a{i}')\n",
        "\n",
        "  # Check that the QBAF is acyclic\n",
        "  if not qbaf.isacyclic():\n",
        "    return modify_QBAF_random_update(qbaf_backup, n_modify_arguments)\n",
        "\n",
        "  return qbaf\n",
        "\n",
        "# Create a random QBAF\n",
        "def QBAF_random(n_arguments:int, n_relations:int, semantics=\"QuadraticEnergy_model\") -> QBAFramework:\n",
        "  assert n_arguments >= 0 and n_relations >= 0\n",
        "  # Create arguments as strings of the numbers 1..n_arguments\n",
        "  args = [str(n+1) for n in range(n_arguments)]\n",
        "  # Generate random strengths in range [0,1] for each argument\n",
        "  i_strengths = [random.uniform(0, 1) for _ in range(n_arguments)]\n",
        "  # Create the QBAF without relations\n",
        "  qbaf = QBAFramework(args, i_strengths, [], [], semantics=semantics)\n",
        "  # Add the relations\n",
        "  modify_QBAF_random(qbaf, n_modify_arguments=0, n_remove_relations=0, n_add_relations=n_relations)\n",
        "  # Return the QBAF\n",
        "  return qbaf"
      ],
      "metadata": {
        "id": "kXAPqsNa76Cw"
      },
      "execution_count": null,
      "outputs": []
    },
    {
      "cell_type": "code",
      "source": [
        "def random_inconsistent_arguments(qbf1:QBAFramework, qbf2:QBAFramework) -> tuple:\n",
        "  arguments = list(qbf1.arguments.intersection(qbf2.arguments))\n",
        "  s_inconstent_args = [(arg1, arg2) for i, arg1 in enumerate(arguments) for arg2 in arguments[i:] if not qbf1.are_strength_consistent(qbf2, arg1, arg2)]\n",
        "  if len(s_inconstent_args) > 0:\n",
        "    return get_random(s_inconstent_args)\n",
        "  return None"
      ],
      "metadata": {
        "id": "yLDj9z7V9Sks"
      },
      "execution_count": null,
      "outputs": []
    },
    {
      "cell_type": "markdown",
      "source": [
        "## Generating random QBAFs"
      ],
      "metadata": {
        "id": "fl-6XhzK9UpL"
      }
    },
    {
      "cell_type": "code",
      "source": [
        "def random_QBAFs(n_arguments:int,            # number of arguments\n",
        "                 prop_relations=3,           # number of relations in proportion to n_arguments (generated QBAF)\n",
        "                 semantics=\"QuadraticEnergy_model\",\n",
        "                 size=1,                     # number of generated QBAFs\n",
        "                 seed=1234\n",
        "                 ) -> list:\n",
        "  if seed is not None:\n",
        "    random.seed(seed)\n",
        "\n",
        "  n_relations = int(n_arguments * prop_relations)\n",
        "\n",
        "  result = []\n",
        "  while len(result) < size:\n",
        "    qbaf = QBAF_random(n_arguments, n_relations, semantics=semantics) # generated QBAF\n",
        "    result.append(qbaf)  # generated_QBAF\n",
        "\n",
        "  return result # Return a list of QBAF:QBAFramework"
      ],
      "metadata": {
        "id": "-yebUUOw4bBx"
      },
      "execution_count": null,
      "outputs": []
    },
    {
      "cell_type": "code",
      "source": [
        "# generate random QBAFs with its updated version\n",
        "def generate_random_QBAFs(n_arguments:int,            # number of arguments (generated QBAF)\n",
        "                          prop_relations=1.1,           # number of relations in proportion to n_arguments (generated QBAF)\n",
        "                          prop_modify_arguments=0.2,  # number of modified arguments in proportion to n_arguments (updated QBAF)\n",
        "                          semantics=\"QuadraticEnergy_model\",\n",
        "                          size=1,                     # number of pairs generated, updated QBAFs\n",
        "                          seed=1234\n",
        "                          ) -> list:\n",
        "  if seed is not None:\n",
        "    random.seed(seed)\n",
        "\n",
        "  n_relations = int(n_arguments * prop_relations)\n",
        "  n_modify_arguments = int(n_arguments * prop_modify_arguments)\n",
        "\n",
        "  result = []\n",
        "  while len(result) < size:\n",
        "    qbaf1 = QBAF_random(n_arguments, n_relations, semantics=semantics) # generated QBAF\n",
        "    qbaf2 = qbaf1.copy()\n",
        "    qbaf2 = modify_QBAF_random_update(qbaf2, n_modify_arguments)\n",
        "    s_inconsistent_args = random_inconsistent_arguments(qbaf1, qbaf2)\n",
        "    if s_inconsistent_args is None:\n",
        "      continue\n",
        "    result.append((qbaf1, qbaf2, s_inconsistent_args))  # generated_QBAF, updated_QBAF, (arg1, arg2)\n",
        "\n",
        "  return result # Return a list of tuples (generated_QBAF:QBAFramework, updated_QBAF:QBAFramework, pair_strength_inconsistent_arguments:tuple)"
      ],
      "metadata": {
        "id": "qXSM2E97tp9g"
      },
      "execution_count": null,
      "outputs": []
    },
    {
      "cell_type": "markdown",
      "source": [
        "## Testing execution times"
      ],
      "metadata": {
        "id": "x-v1pUSn86ES"
      }
    },
    {
      "cell_type": "markdown",
      "source": [
        "### Calculate final strengths"
      ],
      "metadata": {
        "id": "_AT8oadZ9mnS"
      }
    },
    {
      "cell_type": "code",
      "source": [
        "n = 50 # Number of QBAFs generated each time\n",
        "\n",
        "n_arguments_list = []\n",
        "results_list = []\n",
        "for i in range(100):\n",
        "  n_arguments = (i + 1) * 10\n",
        "  times = []\n",
        "  for qbaf in random_QBAFs(n_arguments=n_arguments, semantics=\"QuadraticEnergy_model\", size=n, seed=1234):\n",
        "    start_time = time.time()\n",
        "    f_strengths = qbaf.final_strengths\n",
        "    end_time = time.time()\n",
        "    times.append(end_time - start_time)\n",
        "\n",
        "  avg_time = mean(times)\n",
        "  n_arguments_list.append(n_arguments)\n",
        "  results_list.append(avg_time)\n",
        "  print(f'For {n_arguments} arguments, the average time in {n} QBAFs is {avg_time} seconds.')\n",
        "\n"
      ],
      "metadata": {
        "id": "8J09dttb5lRa"
      },
      "execution_count": null,
      "outputs": []
    },
    {
      "cell_type": "code",
      "source": [
        "import matplotlib.pyplot as plt\n",
        "plot = plt.plot(n_arguments_list, results_list, color='black')\n",
        "plt.ylabel('Average final strength computation time (in seconds)')\n",
        "plt.xlabel('Number of arguments')"
      ],
      "metadata": {
        "id": "pIM-OjKmJq4f"
      },
      "execution_count": null,
      "outputs": []
    },
    {
      "cell_type": "markdown",
      "source": [
        "### Finding Strength Inconsistency Explanations"
      ],
      "metadata": {
        "id": "-w8S4X9F9qp5"
      }
    },
    {
      "cell_type": "code",
      "source": [
        "from statistics import median\n",
        "\n",
        "def run_experiment(change_amount, n, maximum, offset=5):\n",
        "  # SSI explanations\n",
        "  for i in range(maximum-4):\n",
        "    n_arguments = i + offset\n",
        "    ssi_times = []\n",
        "    csi_times = []\n",
        "    nsi_times = []\n",
        "    for qbaf1, qbaf2, (arg1, arg2) in generate_random_QBAFs(n_arguments=n_arguments, semantics=\"QuadraticEnergy_model\", size=n, seed=123, prop_modify_arguments=change_amount):\n",
        "      start_time = time.time()\n",
        "      explanations = qbaf1.minimalSSIExplanations(qbaf2, arg1, arg2)\n",
        "      end_time = time.time()\n",
        "      ssi_times.append(end_time - start_time)\n",
        "      start_time = time.time()\n",
        "      explanations = qbaf1.minimalCSIExplanations(qbaf2, arg1, arg2)\n",
        "      end_time = time.time()\n",
        "      csi_times.append(end_time - start_time)\n",
        "      start_time = time.time()\n",
        "      explanations = qbaf1.minimalNSIExplanations(qbaf2, arg1, arg2)\n",
        "      end_time = time.time()\n",
        "      nsi_times.append(end_time - start_time)\n",
        "\n",
        "    n_arguments_list.append(n_arguments)\n",
        "\n",
        "    ssi_avg_time = mean(ssi_times)\n",
        "    ssi_results_list.append(ssi_avg_time)\n",
        "    max_ssi_avg_time = max(ssi_times)\n",
        "    max_ssi_results_list.append(max_ssi_avg_time)\n",
        "    med_ssi_avg_time = median(ssi_times)\n",
        "    med_ssi_results_list.append(med_ssi_avg_time)\n",
        "    print(f'SSI explanations: for {n_arguments} arguments, the average time in {n} QBAFs is {ssi_avg_time} seconds.')\n",
        "    csi_avg_time = mean(csi_times)\n",
        "    csi_results_list.append(csi_avg_time)\n",
        "    max_csi_avg_time = max(csi_times)\n",
        "    max_csi_results_list.append(max_csi_avg_time)\n",
        "    med_csi_avg_time = median(csi_times)\n",
        "    med_csi_results_list.append(med_csi_avg_time)\n",
        "    print(f'CSI explanations: for {n_arguments} arguments, the average time in {n} QBAFs is {csi_avg_time} seconds.')\n",
        "    nsi_avg_time = mean(nsi_times)\n",
        "    nsi_results_list.append(nsi_avg_time)\n",
        "    max_nsi_avg_time = max(nsi_times)\n",
        "    max_nsi_results_list.append(max_nsi_avg_time)\n",
        "    med_nsi_avg_time = median(nsi_times)\n",
        "    med_nsi_results_list.append(med_nsi_avg_time)\n",
        "    print(f'NSI explanations: for {n_arguments} arguments, the average time in {n} QBAFs is {nsi_avg_time} seconds.')\n"
      ],
      "metadata": {
        "id": "5XVwWE4C8Xjo"
      },
      "execution_count": null,
      "outputs": []
    },
    {
      "cell_type": "code",
      "source": [
        "n_arguments_list = []\n",
        "ssi_results_list = []\n",
        "csi_results_list = []\n",
        "nsi_results_list = []\n",
        "max_ssi_results_list = []\n",
        "max_csi_results_list = []\n",
        "max_nsi_results_list = []\n",
        "med_ssi_results_list = []\n",
        "med_csi_results_list = []\n",
        "med_nsi_results_list = []\n",
        "run_experiment(0.2, 50, 100)"
      ],
      "metadata": {
        "id": "A24i1GxFk4t8"
      },
      "execution_count": null,
      "outputs": []
    },
    {
      "cell_type": "code",
      "source": [
        "import matplotlib.pyplot as plt\n",
        "plot = plt.plot(n_arguments_list, ssi_results_list, label ='SSI', color='black')\n",
        "plot = plt.plot(n_arguments_list, csi_results_list, '-.', label ='CSI', color='black')\n",
        "plot = plt.plot(n_arguments_list, nsi_results_list, '--', label ='NSI', color='black')\n",
        "plt.legend()\n",
        "plt.ylabel('Average explanation computation time (in seconds)')\n",
        "plt.xlabel('Number of arguments')"
      ],
      "metadata": {
        "id": "vhNrHLLua-Jk"
      },
      "execution_count": null,
      "outputs": []
    },
    {
      "cell_type": "code",
      "source": [
        "plot = plt.plot(n_arguments_list, max_ssi_results_list, label ='SSI', color='black')\n",
        "plot = plt.plot(n_arguments_list, max_csi_results_list, '-.', label ='CSI', color='black')\n",
        "plot = plt.plot(n_arguments_list, max_nsi_results_list, '--', label ='NSI', color='black')\n",
        "plt.legend()\n",
        "plt.ylabel('Maximal explanation computation time (in seconds)')\n",
        "plt.xlabel('Number of arguments')"
      ],
      "metadata": {
        "id": "y20UTuh5cQDs"
      },
      "execution_count": null,
      "outputs": []
    },
    {
      "cell_type": "code",
      "source": [
        "plot = plt.plot(n_arguments_list, med_ssi_results_list, label ='SSI', color='black')\n",
        "plot = plt.plot(n_arguments_list, med_csi_results_list, '-.', label ='CSI', color='black')\n",
        "plot = plt.plot(n_arguments_list, med_nsi_results_list, '--', label ='NSI', color='black')\n",
        "plt.legend()\n",
        "plt.ylabel('Median explanation computation time (in seconds)')\n",
        "plt.xlabel('Number of arguments')"
      ],
      "metadata": {
        "id": "DrbMRikihUkp"
      },
      "execution_count": null,
      "outputs": []
    }
  ]
}